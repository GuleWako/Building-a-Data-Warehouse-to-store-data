{
 "cells": [
  {
   "cell_type": "markdown",
   "metadata": {},
   "source": [
    "#### Creating a data warehouse for Ethiopian medical business data scraped from Telegram channels"
   ]
  },
  {
   "cell_type": "code",
   "execution_count": 1,
   "metadata": {},
   "outputs": [],
   "source": [
    "import os\n",
    "os.chdir('..')\n",
    "import warnings\n",
    "warnings.filterwarnings('ignore')\n",
    "import pandas as pd\n"
   ]
  },
  {
   "cell_type": "markdown",
   "metadata": {},
   "source": [
    "## Data scraping and collection pipeline"
   ]
  },
  {
   "cell_type": "code",
   "execution_count": 2,
   "metadata": {},
   "outputs": [],
   "source": [
    "from scripts.createW_H_Impl import start_scraping\n"
   ]
  },
  {
   "cell_type": "code",
   "execution_count": 3,
   "metadata": {},
   "outputs": [],
   "source": [
    "channel = ['@DoctorsET','@lobelia4cosmetics','@yetenaweg','@EAHCI','@CheMed123']\n"
   ]
  },
  {
   "cell_type": "code",
   "execution_count": 4,
   "metadata": {},
   "outputs": [
    {
     "name": "stderr",
     "output_type": "stream",
     "text": [
      "2024-10-11 16:51:35,307 - INFO - Scrapping data...\n",
      "2024-10-11 16:51:35,309 - INFO - Connecting to 149.154.167.92:443/TcpFull...\n",
      "2024-10-11 16:51:35,442 - INFO - Connection to 149.154.167.92:443/TcpFull complete!\n"
     ]
    },
    {
     "name": "stdout",
     "output_type": "stream",
     "text": [
      "Scraping historical data from @DoctorsET (Doctors Ethiopia)...\n"
     ]
    },
    {
     "name": "stderr",
     "output_type": "stream",
     "text": [
      "2024-10-11 16:51:36,883 - INFO - Finished scraping @DoctorsET\n"
     ]
    },
    {
     "name": "stdout",
     "output_type": "stream",
     "text": [
      "Scraping historical data from @lobelia4cosmetics (Lobelia pharmacy and cosmetics)...\n"
     ]
    },
    {
     "name": "stderr",
     "output_type": "stream",
     "text": [
      "2024-10-11 16:51:37,423 - INFO - Finished scraping @lobelia4cosmetics\n"
     ]
    },
    {
     "name": "stdout",
     "output_type": "stream",
     "text": [
      "Scraping historical data from @yetenaweg (የጤና ወግ - የጤና መረጃ)...\n"
     ]
    },
    {
     "name": "stderr",
     "output_type": "stream",
     "text": [
      "2024-10-11 16:51:37,852 - INFO - Finished scraping @yetenaweg\n"
     ]
    },
    {
     "name": "stdout",
     "output_type": "stream",
     "text": [
      "Scraping historical data from @EAHCI (ETHIO-AMERICAN MEDICAL TRAININGS( CPD ) & HEALTH CONSULTANCY CENTER)...\n"
     ]
    },
    {
     "name": "stderr",
     "output_type": "stream",
     "text": [
      "2024-10-11 16:51:38,381 - INFO - Finished scraping @EAHCI\n"
     ]
    },
    {
     "name": "stdout",
     "output_type": "stream",
     "text": [
      "Scraping historical data from @CheMed123 (CheMed)...\n"
     ]
    },
    {
     "name": "stderr",
     "output_type": "stream",
     "text": [
      "2024-10-11 16:51:38,791 - INFO - Finished scraping @CheMed123\n",
      "2024-10-11 16:51:38,791 - INFO - Listening for real-time messages...\n"
     ]
    },
    {
     "name": "stderr",
     "output_type": "stream",
     "text": [
      "2024-10-11 16:55:57,837 - INFO - Got difference for account updates\n",
      "2024-10-11 17:00:37,828 - INFO - Got difference for channel 2197711891 updates\n",
      "2024-10-11 17:02:38,115 - INFO - Got difference for channel 2197711891 updates\n",
      "2024-10-11 17:10:58,245 - INFO - Got difference for channel 2197711891 updates\n",
      "2024-10-11 17:16:21,373 - INFO - Got difference for channel 2197711891 updates\n",
      "2024-10-11 17:22:19,322 - INFO - Got difference for channel 2197711891 updates\n",
      "2024-10-11 17:29:08,418 - INFO - Got difference for channel 2197711891 updates\n",
      "2024-10-11 17:36:39,670 - INFO - Closing current connection to begin reconnect...\n",
      "2024-10-11 17:36:39,680 - INFO - Connecting to 149.154.167.92:443/TcpFull...\n",
      "2024-10-11 17:36:39,869 - INFO - Connection to 149.154.167.92:443/TcpFull complete!\n",
      "2024-10-11 17:37:38,867 - INFO - Got difference for channel 2197711891 updates\n",
      "2024-10-11 17:38:40,651 - INFO - Got difference for channel 2197711891 updates\n",
      "2024-10-11 17:39:40,001 - INFO - Got difference for channel 1377094832 updates\n",
      "2024-10-11 17:40:58,431 - INFO - Got difference for account updates\n",
      "2024-10-11 17:40:58,576 - INFO - Got difference for channel 1193582142 updates\n",
      "2024-10-11 17:56:27,478 - INFO - Got difference for channel 2197711891 updates\n",
      "2024-10-11 17:58:41,217 - INFO - Got difference for channel 2197711891 updates\n",
      "2024-10-11 18:08:17,376 - INFO - Got difference for channel 2197711891 updates\n",
      "2024-10-11 18:10:58,726 - INFO - Got difference for account updates\n",
      "2024-10-11 18:10:58,878 - INFO - Got difference for channel 1673155480 updates\n",
      "2024-10-11 18:10:59,052 - INFO - Got difference for channel 1072804175 updates\n",
      "2024-10-11 18:13:41,679 - INFO - Got difference for channel 2197711891 updates\n",
      "2024-10-11 18:14:41,686 - INFO - Got difference for channel 2197711891 updates\n"
     ]
    }
   ],
   "source": [
    "start_scraping(channel)\n"
   ]
  },
  {
   "cell_type": "markdown",
   "metadata": {},
   "source": [
    "### Read scrapped datasets"
   ]
  },
  {
   "cell_type": "code",
   "execution_count": 5,
   "metadata": {},
   "outputs": [],
   "source": [
    "scrappedData = pd.read_csv('telegram_data.csv')\n"
   ]
  },
  {
   "cell_type": "code",
   "execution_count": 6,
   "metadata": {},
   "outputs": [
    {
     "data": {
      "text/html": [
       "<div>\n",
       "<style scoped>\n",
       "    .dataframe tbody tr th:only-of-type {\n",
       "        vertical-align: middle;\n",
       "    }\n",
       "\n",
       "    .dataframe tbody tr th {\n",
       "        vertical-align: top;\n",
       "    }\n",
       "\n",
       "    .dataframe thead th {\n",
       "        text-align: right;\n",
       "    }\n",
       "</style>\n",
       "<table border=\"1\" class=\"dataframe\">\n",
       "  <thead>\n",
       "    <tr style=\"text-align: right;\">\n",
       "      <th></th>\n",
       "      <th>message_date</th>\n",
       "      <th>message_id</th>\n",
       "      <th>message_description</th>\n",
       "    </tr>\n",
       "  </thead>\n",
       "  <tbody>\n",
       "    <tr>\n",
       "      <th>0</th>\n",
       "      <td>2023-12-18 17:04:02</td>\n",
       "      <td>864</td>\n",
       "      <td>በቀን አንዴ ብቻ የሚባለው የቢዝነስ አማካሪ በ 10 000 ብር ብቻ የተጀ...</td>\n",
       "    </tr>\n",
       "    <tr>\n",
       "      <th>1</th>\n",
       "      <td>2023-11-03 16:14:39</td>\n",
       "      <td>863</td>\n",
       "      <td>ዶክተርስ ኢትዮጵያ በ አዲስ አቀራረብ በ ቴሌቪዥን ፕሮግራሙን ለመጀመር ከ...</td>\n",
       "    </tr>\n",
       "    <tr>\n",
       "      <th>2</th>\n",
       "      <td>2023-10-02 16:37:39</td>\n",
       "      <td>862</td>\n",
       "      <td>ሞት በስኳር ለልጆቻችን የምናሲዘው ምሳቃ ሳናቀው እድሚያቸውን ይቀንሰው ይ...</td>\n",
       "    </tr>\n",
       "    <tr>\n",
       "      <th>3</th>\n",
       "      <td>2023-09-16 07:54:32</td>\n",
       "      <td>861</td>\n",
       "      <td>ከ HIV የተፈወሰ ሰው አጋጥሟችሁ ያቃል ? ፈውስ እና ህክምና ? ሙሉ ቪ...</td>\n",
       "    </tr>\n",
       "    <tr>\n",
       "      <th>4</th>\n",
       "      <td>2023-09-01 16:16:15</td>\n",
       "      <td>860</td>\n",
       "      <td>በቅርብ ጊዜ በሃገራችን ላይ እየተስተዋለ ያለ የተመሳሳይ ፆታ Homosex...</td>\n",
       "    </tr>\n",
       "    <tr>\n",
       "      <th>5</th>\n",
       "      <td>2023-08-29 17:20:05</td>\n",
       "      <td>859</td>\n",
       "      <td>ዶክተርስ ኢትዮጽያ በአዲስ ፕሮገራም ጀመረ ማረጥ ሜኖፖዝ ጋር ተያይዞ የሚ...</td>\n",
       "    </tr>\n",
       "    <tr>\n",
       "      <th>6</th>\n",
       "      <td>2022-08-02 17:42:08</td>\n",
       "      <td>848</td>\n",
       "      <td>ክረምቱን ስፖርት መስራት አስበው ጂም ለመግባት ካልቻሉ ባሉበት ቦታ ሆነው...</td>\n",
       "    </tr>\n",
       "    <tr>\n",
       "      <th>7</th>\n",
       "      <td>2022-06-12 17:15:47</td>\n",
       "      <td>847</td>\n",
       "      <td>ስፖርት የመስራት ሱስ ይኖር ይሆን? በአሁኑ ወቅት ብዙ የስፖርት መስሪያ ...</td>\n",
       "    </tr>\n",
       "    <tr>\n",
       "      <th>8</th>\n",
       "      <td>2022-05-31 17:51:13</td>\n",
       "      <td>846</td>\n",
       "      <td>ድንገተኛ አደጋ / የአጥንት ስብራት አያርገውና ድንገተኛ የሆነ አደጋ ቢደ...</td>\n",
       "    </tr>\n",
       "    <tr>\n",
       "      <th>9</th>\n",
       "      <td>2022-05-20 18:04:53</td>\n",
       "      <td>845</td>\n",
       "      <td>ከትንሽ ግዚያት በፊት ስፖርት መስራት እንደ ቅንጦት ይታይ ነበር አሁን ላ...</td>\n",
       "    </tr>\n",
       "  </tbody>\n",
       "</table>\n",
       "</div>"
      ],
      "text/plain": [
       "          message_date  message_id  \\\n",
       "0  2023-12-18 17:04:02         864   \n",
       "1  2023-11-03 16:14:39         863   \n",
       "2  2023-10-02 16:37:39         862   \n",
       "3  2023-09-16 07:54:32         861   \n",
       "4  2023-09-01 16:16:15         860   \n",
       "5  2023-08-29 17:20:05         859   \n",
       "6  2022-08-02 17:42:08         848   \n",
       "7  2022-06-12 17:15:47         847   \n",
       "8  2022-05-31 17:51:13         846   \n",
       "9  2022-05-20 18:04:53         845   \n",
       "\n",
       "                                 message_description  \n",
       "0  በቀን አንዴ ብቻ የሚባለው የቢዝነስ አማካሪ በ 10 000 ብር ብቻ የተጀ...  \n",
       "1  ዶክተርስ ኢትዮጵያ በ አዲስ አቀራረብ በ ቴሌቪዥን ፕሮግራሙን ለመጀመር ከ...  \n",
       "2  ሞት በስኳር ለልጆቻችን የምናሲዘው ምሳቃ ሳናቀው እድሚያቸውን ይቀንሰው ይ...  \n",
       "3  ከ HIV የተፈወሰ ሰው አጋጥሟችሁ ያቃል ? ፈውስ እና ህክምና ? ሙሉ ቪ...  \n",
       "4  በቅርብ ጊዜ በሃገራችን ላይ እየተስተዋለ ያለ የተመሳሳይ ፆታ Homosex...  \n",
       "5  ዶክተርስ ኢትዮጽያ በአዲስ ፕሮገራም ጀመረ ማረጥ ሜኖፖዝ ጋር ተያይዞ የሚ...  \n",
       "6  ክረምቱን ስፖርት መስራት አስበው ጂም ለመግባት ካልቻሉ ባሉበት ቦታ ሆነው...  \n",
       "7  ስፖርት የመስራት ሱስ ይኖር ይሆን? በአሁኑ ወቅት ብዙ የስፖርት መስሪያ ...  \n",
       "8  ድንገተኛ አደጋ / የአጥንት ስብራት አያርገውና ድንገተኛ የሆነ አደጋ ቢደ...  \n",
       "9  ከትንሽ ግዚያት በፊት ስፖርት መስራት እንደ ቅንጦት ይታይ ነበር አሁን ላ...  "
      ]
     },
     "execution_count": 6,
     "metadata": {},
     "output_type": "execute_result"
    }
   ],
   "source": [
    "scrappedData.head(10)\n"
   ]
  },
  {
   "cell_type": "markdown",
   "metadata": {},
   "source": [
    "## Data Cleaning and Transformation"
   ]
  },
  {
   "cell_type": "markdown",
   "metadata": {},
   "source": [
    "### Data Cleaning"
   ]
  },
  {
   "cell_type": "code",
   "execution_count": 7,
   "metadata": {},
   "outputs": [
    {
     "data": {
      "text/plain": [
       "message_date           0\n",
       "message_id             0\n",
       "message_description    0\n",
       "dtype: int64"
      ]
     },
     "execution_count": 7,
     "metadata": {},
     "output_type": "execute_result"
    }
   ],
   "source": [
    "scrappedData.isnull().sum()\n"
   ]
  },
  {
   "cell_type": "code",
   "execution_count": 8,
   "metadata": {},
   "outputs": [
    {
     "data": {
      "text/plain": [
       "message_date           0\n",
       "message_id             0\n",
       "message_description    0\n",
       "dtype: int64"
      ]
     },
     "execution_count": 8,
     "metadata": {},
     "output_type": "execute_result"
    }
   ],
   "source": [
    "scrappedData.isna().sum()\n"
   ]
  },
  {
   "cell_type": "code",
   "execution_count": 9,
   "metadata": {},
   "outputs": [],
   "source": [
    "scrappedData.drop_duplicates(inplace=True)\n",
    "scrappedData.dropna(inplace=True)\n"
   ]
  },
  {
   "cell_type": "code",
   "execution_count": 10,
   "metadata": {},
   "outputs": [
    {
     "data": {
      "text/html": [
       "<div>\n",
       "<style scoped>\n",
       "    .dataframe tbody tr th:only-of-type {\n",
       "        vertical-align: middle;\n",
       "    }\n",
       "\n",
       "    .dataframe tbody tr th {\n",
       "        vertical-align: top;\n",
       "    }\n",
       "\n",
       "    .dataframe thead th {\n",
       "        text-align: right;\n",
       "    }\n",
       "</style>\n",
       "<table border=\"1\" class=\"dataframe\">\n",
       "  <thead>\n",
       "    <tr style=\"text-align: right;\">\n",
       "      <th></th>\n",
       "      <th>message_date</th>\n",
       "      <th>message_id</th>\n",
       "      <th>message_description</th>\n",
       "    </tr>\n",
       "  </thead>\n",
       "  <tbody>\n",
       "    <tr>\n",
       "      <th>96</th>\n",
       "      <td>2023-01-04 05:58:02</td>\n",
       "      <td>77</td>\n",
       "      <td>Nature Made Vitamin supplements Che-Med በደምበኞቻ...</td>\n",
       "    </tr>\n",
       "    <tr>\n",
       "      <th>97</th>\n",
       "      <td>2023-01-03 17:49:48</td>\n",
       "      <td>76</td>\n",
       "      <td>በ መድሃኒትዎን የሚያዙበትን መንገድ የሚያሳይ tiktok ቪዲዮ።</td>\n",
       "    </tr>\n",
       "    <tr>\n",
       "      <th>98</th>\n",
       "      <td>2023-01-03 05:48:34</td>\n",
       "      <td>75</td>\n",
       "      <td>በChe-Med የጥሪ ማዕከል 9798 ላይ ደውለው በመመዝገብ በየወሩ የሚያ...</td>\n",
       "    </tr>\n",
       "    <tr>\n",
       "      <th>99</th>\n",
       "      <td>2022-12-30 15:45:35</td>\n",
       "      <td>71</td>\n",
       "      <td>Che-Med at Smart city symposium National scien...</td>\n",
       "    </tr>\n",
       "    <tr>\n",
       "      <th>100</th>\n",
       "      <td>2022-12-28 17:02:08</td>\n",
       "      <td>70</td>\n",
       "      <td>Buy you Power Plus supplement from Che-Med. Fo...</td>\n",
       "    </tr>\n",
       "    <tr>\n",
       "      <th>101</th>\n",
       "      <td>2022-12-28 06:31:50</td>\n",
       "      <td>67</td>\n",
       "      <td>Order your Power plus Vitamin and mineral supp...</td>\n",
       "    </tr>\n",
       "    <tr>\n",
       "      <th>102</th>\n",
       "      <td>2022-12-27 17:06:32</td>\n",
       "      <td>64</td>\n",
       "      <td>Che-Med Che-Med የመድሀኒትና የህክምና እቃዎች አፋላጊ እና አቅራ...</td>\n",
       "    </tr>\n",
       "    <tr>\n",
       "      <th>103</th>\n",
       "      <td>2022-12-25 15:46:05</td>\n",
       "      <td>62</td>\n",
       "      <td>የምስራች ከChe-Med ።።።።።።Che-Med አስታዋሽ።።።።።። Che-M...</td>\n",
       "    </tr>\n",
       "    <tr>\n",
       "      <th>104</th>\n",
       "      <td>2022-12-23 06:26:15</td>\n",
       "      <td>60</td>\n",
       "      <td>ቀጠሮ ያስይዙ በ ጥሪ ማዕከላችን 9798 በመደወል የዕንቅርት ህመም መቆጣ...</td>\n",
       "    </tr>\n",
       "    <tr>\n",
       "      <th>105</th>\n",
       "      <td>2022-12-22 06:40:25</td>\n",
       "      <td>59</td>\n",
       "      <td>ቀጠሮ ያስይዙ በ ጥሪ ማዕከላችን 9798 በመደወል የግፊት መድሃኒትዎን በ...</td>\n",
       "    </tr>\n",
       "  </tbody>\n",
       "</table>\n",
       "</div>"
      ],
      "text/plain": [
       "            message_date  message_id  \\\n",
       "96   2023-01-04 05:58:02          77   \n",
       "97   2023-01-03 17:49:48          76   \n",
       "98   2023-01-03 05:48:34          75   \n",
       "99   2022-12-30 15:45:35          71   \n",
       "100  2022-12-28 17:02:08          70   \n",
       "101  2022-12-28 06:31:50          67   \n",
       "102  2022-12-27 17:06:32          64   \n",
       "103  2022-12-25 15:46:05          62   \n",
       "104  2022-12-23 06:26:15          60   \n",
       "105  2022-12-22 06:40:25          59   \n",
       "\n",
       "                                   message_description  \n",
       "96   Nature Made Vitamin supplements Che-Med በደምበኞቻ...  \n",
       "97            በ መድሃኒትዎን የሚያዙበትን መንገድ የሚያሳይ tiktok ቪዲዮ።  \n",
       "98   በChe-Med የጥሪ ማዕከል 9798 ላይ ደውለው በመመዝገብ በየወሩ የሚያ...  \n",
       "99   Che-Med at Smart city symposium National scien...  \n",
       "100  Buy you Power Plus supplement from Che-Med. Fo...  \n",
       "101  Order your Power plus Vitamin and mineral supp...  \n",
       "102  Che-Med Che-Med የመድሀኒትና የህክምና እቃዎች አፋላጊ እና አቅራ...  \n",
       "103  የምስራች ከChe-Med ።።።።።።Che-Med አስታዋሽ።።።።።። Che-M...  \n",
       "104  ቀጠሮ ያስይዙ በ ጥሪ ማዕከላችን 9798 በመደወል የዕንቅርት ህመም መቆጣ...  \n",
       "105  ቀጠሮ ያስይዙ በ ጥሪ ማዕከላችን 9798 በመደወል የግፊት መድሃኒትዎን በ...  "
      ]
     },
     "execution_count": 10,
     "metadata": {},
     "output_type": "execute_result"
    }
   ],
   "source": [
    "scrappedData.tail(10)\n"
   ]
  },
  {
   "cell_type": "markdown",
   "metadata": {},
   "source": [
    "## DBT -> Data Build Tool\n"
   ]
  }
 ],
 "metadata": {
  "kernelspec": {
   "display_name": ".venv",
   "language": "python",
   "name": "python3"
  },
  "language_info": {
   "codemirror_mode": {
    "name": "ipython",
    "version": 3
   },
   "file_extension": ".py",
   "mimetype": "text/x-python",
   "name": "python",
   "nbconvert_exporter": "python",
   "pygments_lexer": "ipython3",
   "version": "3.10.12"
  }
 },
 "nbformat": 4,
 "nbformat_minor": 2
}
