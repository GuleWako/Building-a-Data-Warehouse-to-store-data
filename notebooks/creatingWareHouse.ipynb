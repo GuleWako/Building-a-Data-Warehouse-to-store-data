{
 "cells": [
  {
   "cell_type": "markdown",
   "metadata": {},
   "source": [
    "#### Creating a data warehouse for Ethiopian medical business data scraped from Telegram channels"
   ]
  },
  {
   "cell_type": "code",
   "execution_count": 1,
   "metadata": {},
   "outputs": [],
   "source": [
    "import os\n",
    "os.chdir('..')\n",
    "import warnings\n",
    "warnings.filterwarnings('ignore')\n",
    "import pandas as pd\n"
   ]
  },
  {
   "cell_type": "markdown",
   "metadata": {},
   "source": [
    "## Data scraping and collection pipeline"
   ]
  },
  {
   "cell_type": "code",
   "execution_count": 2,
   "metadata": {},
   "outputs": [],
   "source": [
    "from scripts.createW_H_Impl import start_scraping\n"
   ]
  },
  {
   "cell_type": "code",
   "execution_count": 3,
   "metadata": {},
   "outputs": [],
   "source": [
    "channel = ['@DoctorsET','@lobelia4cosmetics','@yetenaweg','@EAHCI','@CheMed123']\n"
   ]
  },
  {
   "cell_type": "code",
   "execution_count": 4,
   "metadata": {},
   "outputs": [
    {
     "name": "stderr",
     "output_type": "stream",
     "text": [
      "2024-10-15 16:38:11,573 - INFO - Scrapping data...\n",
      "2024-10-15 16:38:11,575 - INFO - Connecting to 149.154.167.92:443/TcpFull...\n"
     ]
    },
    {
     "name": "stderr",
     "output_type": "stream",
     "text": [
      "2024-10-15 16:38:11,677 - INFO - Connection to 149.154.167.92:443/TcpFull complete!\n",
      "2024-10-15 16:38:12,591 - INFO - Finished scraping @DoctorsET\n"
     ]
    },
    {
     "name": "stdout",
     "output_type": "stream",
     "text": [
      "Scraping historical data from @DoctorsET (Doctors Ethiopia)...\n"
     ]
    },
    {
     "name": "stderr",
     "output_type": "stream",
     "text": [
      "2024-10-15 16:38:12,898 - INFO - Finished scraping @lobelia4cosmetics\n"
     ]
    },
    {
     "name": "stdout",
     "output_type": "stream",
     "text": [
      "Scraping historical data from @lobelia4cosmetics (Lobelia pharmacy and cosmetics)...\n",
      "Scraping historical data from @yetenaweg (የጤና ወግ - የጤና መረጃ)...\n"
     ]
    },
    {
     "name": "stderr",
     "output_type": "stream",
     "text": [
      "2024-10-15 16:38:13,230 - INFO - Finished scraping @yetenaweg\n"
     ]
    },
    {
     "name": "stdout",
     "output_type": "stream",
     "text": [
      "Scraping historical data from @EAHCI (ETHIO-AMERICAN MEDICAL TRAININGS( CPD ) & HEALTH CONSULTANCY CENTER)...\n"
     ]
    },
    {
     "name": "stderr",
     "output_type": "stream",
     "text": [
      "2024-10-15 16:38:13,555 - INFO - Finished scraping @EAHCI\n"
     ]
    },
    {
     "name": "stdout",
     "output_type": "stream",
     "text": [
      "Scraping historical data from @CheMed123 (CheMed)...\n"
     ]
    },
    {
     "name": "stderr",
     "output_type": "stream",
     "text": [
      "2024-10-15 16:38:13,893 - INFO - Finished scraping @CheMed123\n",
      "2024-10-15 16:38:13,894 - INFO - Listening for real-time messages...\n"
     ]
    },
    {
     "name": "stderr",
     "output_type": "stream",
     "text": [
      "2024-10-15 16:48:53,623 - INFO - Got difference for account updates\n",
      "2024-10-15 16:52:56,535 - INFO - Got difference for channel 2197711891 updates\n",
      "2024-10-15 16:56:13,588 - INFO - Got difference for channel 2197711891 updates\n",
      "2024-10-15 16:56:42,431 - INFO - Got difference for channel 2197711891 updates\n",
      "2024-10-15 16:57:51,201 - INFO - Got difference for channel 2197711891 updates\n",
      "2024-10-15 16:59:11,211 - INFO - Got difference for channel 2197711891 updates\n",
      "2024-10-15 17:01:13,721 - INFO - Got difference for channel 2197711891 updates\n",
      "2024-10-15 17:03:13,923 - INFO - Got difference for channel 2197711891 updates\n",
      "2024-10-15 17:09:06,604 - INFO - Got difference for channel 2197711891 updates\n",
      "2024-10-15 17:14:01,229 - INFO - Got difference for channel 2197711891 updates\n",
      "2024-10-15 17:19:25,821 - INFO - Got difference for channel 2197711891 updates\n",
      "2024-10-15 17:26:36,483 - INFO - Got difference for account updates\n",
      "2024-10-15 17:34:26,093 - INFO - Got difference for channel 2197711891 updates\n",
      "2024-10-15 17:41:10,487 - ERROR - Unhandled exception on real_time_message_handler\n",
      "Traceback (most recent call last):\n",
      "  File \"/home/osho/Projects/10AcadameyDADSML/10AcademyWeek7Analysis/.venv/lib/python3.10/site-packages/telethon/client/updates.py\", line 570, in _dispatch_update\n",
      "    await callback(event)\n",
      "  File \"/home/osho/Projects/10AcadameyDADSML/10AcademyWeek7Analysis/scripts/createW_H_Impl.py\", line 96, in real_time_message_handler\n",
      "    mess_text = ' '.join(re.findall(text_reg, message.message))\n",
      "AttributeError: 'str' object has no attribute 'message'\n",
      "2024-10-15 17:42:05,886 - ERROR - Unhandled exception on real_time_message_handler\n",
      "Traceback (most recent call last):\n",
      "  File \"/home/osho/Projects/10AcadameyDADSML/10AcademyWeek7Analysis/.venv/lib/python3.10/site-packages/telethon/client/updates.py\", line 570, in _dispatch_update\n",
      "    await callback(event)\n",
      "  File \"/home/osho/Projects/10AcadameyDADSML/10AcademyWeek7Analysis/scripts/createW_H_Impl.py\", line 96, in real_time_message_handler\n",
      "    mess_text = ' '.join(re.findall(text_reg, message.message))\n",
      "AttributeError: 'str' object has no attribute 'message'\n",
      "2024-10-15 17:43:45,108 - INFO - Got difference for channel 2197711891 updates\n",
      "2024-10-15 17:53:21,481 - INFO - Got difference for channel 2197711891 updates\n",
      "2024-10-15 17:54:20,761 - ERROR - Unhandled exception on real_time_message_handler\n",
      "Traceback (most recent call last):\n",
      "  File \"/home/osho/Projects/10AcadameyDADSML/10AcademyWeek7Analysis/.venv/lib/python3.10/site-packages/telethon/client/updates.py\", line 570, in _dispatch_update\n",
      "    await callback(event)\n",
      "  File \"/home/osho/Projects/10AcadameyDADSML/10AcademyWeek7Analysis/scripts/createW_H_Impl.py\", line 96, in real_time_message_handler\n",
      "    mess_text = ' '.join(re.findall(text_reg, message.message))\n",
      "AttributeError: 'str' object has no attribute 'message'\n",
      "2024-10-15 17:54:21,416 - INFO - Got difference for channel 2197711891 updates\n",
      "2024-10-15 18:00:47,387 - INFO - Got difference for channel 2197711891 updates\n",
      "2024-10-15 18:03:21,716 - INFO - Got difference for channel 2197711891 updates\n",
      "2024-10-15 18:03:25,179 - INFO - Got difference for channel 2197711891 updates\n",
      "2024-10-15 18:06:21,792 - INFO - Got difference for channel 2197711891 updates\n",
      "2024-10-15 18:11:37,138 - INFO - Got difference for account updates\n",
      "2024-10-15 18:11:37,340 - INFO - Got difference for channel 2197711891 updates\n",
      "2024-10-15 18:13:22,008 - INFO - Got difference for channel 2197711891 updates\n",
      "2024-10-15 18:18:55,814 - INFO - Got difference for channel 2197711891 updates\n",
      "2024-10-15 18:41:37,514 - INFO - Got difference for channel 1838427920 updates\n",
      "2024-10-15 18:53:29,665 - INFO - Got difference for channel 2197711891 updates\n"
     ]
    }
   ],
   "source": [
    "start_scraping(channel)\n"
   ]
  },
  {
   "cell_type": "markdown",
   "metadata": {},
   "source": [
    "### Read scrapped datasets"
   ]
  },
  {
   "cell_type": "code",
   "execution_count": 5,
   "metadata": {},
   "outputs": [],
   "source": [
    "scrappedData = pd.read_csv('telegram_data.csv')\n"
   ]
  },
  {
   "cell_type": "code",
   "execution_count": 6,
   "metadata": {},
   "outputs": [
    {
     "data": {
      "text/html": [
       "<div>\n",
       "<style scoped>\n",
       "    .dataframe tbody tr th:only-of-type {\n",
       "        vertical-align: middle;\n",
       "    }\n",
       "\n",
       "    .dataframe tbody tr th {\n",
       "        vertical-align: top;\n",
       "    }\n",
       "\n",
       "    .dataframe thead th {\n",
       "        text-align: right;\n",
       "    }\n",
       "</style>\n",
       "<table border=\"1\" class=\"dataframe\">\n",
       "  <thead>\n",
       "    <tr style=\"text-align: right;\">\n",
       "      <th></th>\n",
       "      <th>message_date</th>\n",
       "      <th>message_id</th>\n",
       "      <th>message_description</th>\n",
       "    </tr>\n",
       "  </thead>\n",
       "  <tbody>\n",
       "    <tr>\n",
       "      <th>0</th>\n",
       "      <td>2023-12-18 17:04:02</td>\n",
       "      <td>864</td>\n",
       "      <td>በቀን አንዴ ብቻ የሚባለው የቢዝነስ አማካሪ በ 10 000 ብር ብቻ የተጀ...</td>\n",
       "    </tr>\n",
       "    <tr>\n",
       "      <th>1</th>\n",
       "      <td>2023-11-03 16:14:39</td>\n",
       "      <td>863</td>\n",
       "      <td>ዶክተርስ ኢትዮጵያ በ አዲስ አቀራረብ በ ቴሌቪዥን ፕሮግራሙን ለመጀመር ከ...</td>\n",
       "    </tr>\n",
       "    <tr>\n",
       "      <th>2</th>\n",
       "      <td>2023-10-02 16:37:39</td>\n",
       "      <td>862</td>\n",
       "      <td>ሞት በስኳር ለልጆቻችን የምናሲዘው ምሳቃ ሳናቀው እድሚያቸውን ይቀንሰው ይ...</td>\n",
       "    </tr>\n",
       "    <tr>\n",
       "      <th>3</th>\n",
       "      <td>2023-09-16 07:54:32</td>\n",
       "      <td>861</td>\n",
       "      <td>ከ HIV የተፈወሰ ሰው አጋጥሟችሁ ያቃል ? ፈውስ እና ህክምና ? ሙሉ ቪ...</td>\n",
       "    </tr>\n",
       "    <tr>\n",
       "      <th>4</th>\n",
       "      <td>2023-09-01 16:16:15</td>\n",
       "      <td>860</td>\n",
       "      <td>በቅርብ ጊዜ በሃገራችን ላይ እየተስተዋለ ያለ የተመሳሳይ ፆታ Homosex...</td>\n",
       "    </tr>\n",
       "    <tr>\n",
       "      <th>5</th>\n",
       "      <td>2023-08-29 17:20:05</td>\n",
       "      <td>859</td>\n",
       "      <td>ዶክተርስ ኢትዮጽያ በአዲስ ፕሮገራም ጀመረ ማረጥ ሜኖፖዝ ጋር ተያይዞ የሚ...</td>\n",
       "    </tr>\n",
       "    <tr>\n",
       "      <th>6</th>\n",
       "      <td>2022-08-02 17:42:08</td>\n",
       "      <td>848</td>\n",
       "      <td>ክረምቱን ስፖርት መስራት አስበው ጂም ለመግባት ካልቻሉ ባሉበት ቦታ ሆነው...</td>\n",
       "    </tr>\n",
       "    <tr>\n",
       "      <th>7</th>\n",
       "      <td>2022-06-12 17:15:47</td>\n",
       "      <td>847</td>\n",
       "      <td>ስፖርት የመስራት ሱስ ይኖር ይሆን? በአሁኑ ወቅት ብዙ የስፖርት መስሪያ ...</td>\n",
       "    </tr>\n",
       "    <tr>\n",
       "      <th>8</th>\n",
       "      <td>2022-05-31 17:51:13</td>\n",
       "      <td>846</td>\n",
       "      <td>ድንገተኛ አደጋ / የአጥንት ስብራት አያርገውና ድንገተኛ የሆነ አደጋ ቢደ...</td>\n",
       "    </tr>\n",
       "    <tr>\n",
       "      <th>9</th>\n",
       "      <td>2022-05-20 18:04:53</td>\n",
       "      <td>845</td>\n",
       "      <td>ከትንሽ ግዚያት በፊት ስፖርት መስራት እንደ ቅንጦት ይታይ ነበር አሁን ላ...</td>\n",
       "    </tr>\n",
       "  </tbody>\n",
       "</table>\n",
       "</div>"
      ],
      "text/plain": [
       "          message_date  message_id  \\\n",
       "0  2023-12-18 17:04:02         864   \n",
       "1  2023-11-03 16:14:39         863   \n",
       "2  2023-10-02 16:37:39         862   \n",
       "3  2023-09-16 07:54:32         861   \n",
       "4  2023-09-01 16:16:15         860   \n",
       "5  2023-08-29 17:20:05         859   \n",
       "6  2022-08-02 17:42:08         848   \n",
       "7  2022-06-12 17:15:47         847   \n",
       "8  2022-05-31 17:51:13         846   \n",
       "9  2022-05-20 18:04:53         845   \n",
       "\n",
       "                                 message_description  \n",
       "0  በቀን አንዴ ብቻ የሚባለው የቢዝነስ አማካሪ በ 10 000 ብር ብቻ የተጀ...  \n",
       "1  ዶክተርስ ኢትዮጵያ በ አዲስ አቀራረብ በ ቴሌቪዥን ፕሮግራሙን ለመጀመር ከ...  \n",
       "2  ሞት በስኳር ለልጆቻችን የምናሲዘው ምሳቃ ሳናቀው እድሚያቸውን ይቀንሰው ይ...  \n",
       "3  ከ HIV የተፈወሰ ሰው አጋጥሟችሁ ያቃል ? ፈውስ እና ህክምና ? ሙሉ ቪ...  \n",
       "4  በቅርብ ጊዜ በሃገራችን ላይ እየተስተዋለ ያለ የተመሳሳይ ፆታ Homosex...  \n",
       "5  ዶክተርስ ኢትዮጽያ በአዲስ ፕሮገራም ጀመረ ማረጥ ሜኖፖዝ ጋር ተያይዞ የሚ...  \n",
       "6  ክረምቱን ስፖርት መስራት አስበው ጂም ለመግባት ካልቻሉ ባሉበት ቦታ ሆነው...  \n",
       "7  ስፖርት የመስራት ሱስ ይኖር ይሆን? በአሁኑ ወቅት ብዙ የስፖርት መስሪያ ...  \n",
       "8  ድንገተኛ አደጋ / የአጥንት ስብራት አያርገውና ድንገተኛ የሆነ አደጋ ቢደ...  \n",
       "9  ከትንሽ ግዚያት በፊት ስፖርት መስራት እንደ ቅንጦት ይታይ ነበር አሁን ላ...  "
      ]
     },
     "execution_count": 6,
     "metadata": {},
     "output_type": "execute_result"
    }
   ],
   "source": [
    "scrappedData.head(10)\n"
   ]
  },
  {
   "cell_type": "markdown",
   "metadata": {},
   "source": [
    "## Data Cleaning and Transformation"
   ]
  },
  {
   "cell_type": "markdown",
   "metadata": {},
   "source": [
    "### Data Cleaning"
   ]
  },
  {
   "cell_type": "code",
   "execution_count": 7,
   "metadata": {},
   "outputs": [
    {
     "data": {
      "text/plain": [
       "message_date           0\n",
       "message_id             0\n",
       "message_description    0\n",
       "dtype: int64"
      ]
     },
     "execution_count": 7,
     "metadata": {},
     "output_type": "execute_result"
    }
   ],
   "source": [
    "scrappedData.isnull().sum()\n"
   ]
  },
  {
   "cell_type": "code",
   "execution_count": 8,
   "metadata": {},
   "outputs": [
    {
     "data": {
      "text/plain": [
       "message_date           0\n",
       "message_id             0\n",
       "message_description    0\n",
       "dtype: int64"
      ]
     },
     "execution_count": 8,
     "metadata": {},
     "output_type": "execute_result"
    }
   ],
   "source": [
    "scrappedData.isna().sum()\n"
   ]
  },
  {
   "cell_type": "code",
   "execution_count": 9,
   "metadata": {},
   "outputs": [],
   "source": [
    "scrappedData.drop_duplicates(inplace=True)\n",
    "scrappedData.dropna(inplace=True)\n"
   ]
  },
  {
   "cell_type": "code",
   "execution_count": 10,
   "metadata": {},
   "outputs": [
    {
     "data": {
      "text/html": [
       "<div>\n",
       "<style scoped>\n",
       "    .dataframe tbody tr th:only-of-type {\n",
       "        vertical-align: middle;\n",
       "    }\n",
       "\n",
       "    .dataframe tbody tr th {\n",
       "        vertical-align: top;\n",
       "    }\n",
       "\n",
       "    .dataframe thead th {\n",
       "        text-align: right;\n",
       "    }\n",
       "</style>\n",
       "<table border=\"1\" class=\"dataframe\">\n",
       "  <thead>\n",
       "    <tr style=\"text-align: right;\">\n",
       "      <th></th>\n",
       "      <th>message_date</th>\n",
       "      <th>message_id</th>\n",
       "      <th>message_description</th>\n",
       "    </tr>\n",
       "  </thead>\n",
       "  <tbody>\n",
       "    <tr>\n",
       "      <th>96</th>\n",
       "      <td>2023-01-04 05:58:02</td>\n",
       "      <td>77</td>\n",
       "      <td>Nature Made Vitamin supplements Che-Med በደምበኞቻ...</td>\n",
       "    </tr>\n",
       "    <tr>\n",
       "      <th>97</th>\n",
       "      <td>2023-01-03 17:49:48</td>\n",
       "      <td>76</td>\n",
       "      <td>በ መድሃኒትዎን የሚያዙበትን መንገድ የሚያሳይ tiktok ቪዲዮ።</td>\n",
       "    </tr>\n",
       "    <tr>\n",
       "      <th>98</th>\n",
       "      <td>2023-01-03 05:48:34</td>\n",
       "      <td>75</td>\n",
       "      <td>በChe-Med የጥሪ ማዕከል 9798 ላይ ደውለው በመመዝገብ በየወሩ የሚያ...</td>\n",
       "    </tr>\n",
       "    <tr>\n",
       "      <th>99</th>\n",
       "      <td>2022-12-30 15:45:35</td>\n",
       "      <td>71</td>\n",
       "      <td>Che-Med at Smart city symposium National scien...</td>\n",
       "    </tr>\n",
       "    <tr>\n",
       "      <th>100</th>\n",
       "      <td>2022-12-28 17:02:08</td>\n",
       "      <td>70</td>\n",
       "      <td>Buy you Power Plus supplement from Che-Med. Fo...</td>\n",
       "    </tr>\n",
       "    <tr>\n",
       "      <th>101</th>\n",
       "      <td>2022-12-28 06:31:50</td>\n",
       "      <td>67</td>\n",
       "      <td>Order your Power plus Vitamin and mineral supp...</td>\n",
       "    </tr>\n",
       "    <tr>\n",
       "      <th>102</th>\n",
       "      <td>2022-12-27 17:06:32</td>\n",
       "      <td>64</td>\n",
       "      <td>Che-Med Che-Med የመድሀኒትና የህክምና እቃዎች አፋላጊ እና አቅራ...</td>\n",
       "    </tr>\n",
       "    <tr>\n",
       "      <th>103</th>\n",
       "      <td>2022-12-25 15:46:05</td>\n",
       "      <td>62</td>\n",
       "      <td>የምስራች ከChe-Med ።።።።።።Che-Med አስታዋሽ።።።።።። Che-M...</td>\n",
       "    </tr>\n",
       "    <tr>\n",
       "      <th>104</th>\n",
       "      <td>2022-12-23 06:26:15</td>\n",
       "      <td>60</td>\n",
       "      <td>ቀጠሮ ያስይዙ በ ጥሪ ማዕከላችን 9798 በመደወል የዕንቅርት ህመም መቆጣ...</td>\n",
       "    </tr>\n",
       "    <tr>\n",
       "      <th>105</th>\n",
       "      <td>2022-12-22 06:40:25</td>\n",
       "      <td>59</td>\n",
       "      <td>ቀጠሮ ያስይዙ በ ጥሪ ማዕከላችን 9798 በመደወል የግፊት መድሃኒትዎን በ...</td>\n",
       "    </tr>\n",
       "  </tbody>\n",
       "</table>\n",
       "</div>"
      ],
      "text/plain": [
       "            message_date  message_id  \\\n",
       "96   2023-01-04 05:58:02          77   \n",
       "97   2023-01-03 17:49:48          76   \n",
       "98   2023-01-03 05:48:34          75   \n",
       "99   2022-12-30 15:45:35          71   \n",
       "100  2022-12-28 17:02:08          70   \n",
       "101  2022-12-28 06:31:50          67   \n",
       "102  2022-12-27 17:06:32          64   \n",
       "103  2022-12-25 15:46:05          62   \n",
       "104  2022-12-23 06:26:15          60   \n",
       "105  2022-12-22 06:40:25          59   \n",
       "\n",
       "                                   message_description  \n",
       "96   Nature Made Vitamin supplements Che-Med በደምበኞቻ...  \n",
       "97            በ መድሃኒትዎን የሚያዙበትን መንገድ የሚያሳይ tiktok ቪዲዮ።  \n",
       "98   በChe-Med የጥሪ ማዕከል 9798 ላይ ደውለው በመመዝገብ በየወሩ የሚያ...  \n",
       "99   Che-Med at Smart city symposium National scien...  \n",
       "100  Buy you Power Plus supplement from Che-Med. Fo...  \n",
       "101  Order your Power plus Vitamin and mineral supp...  \n",
       "102  Che-Med Che-Med የመድሀኒትና የህክምና እቃዎች አፋላጊ እና አቅራ...  \n",
       "103  የምስራች ከChe-Med ።።።።።።Che-Med አስታዋሽ።።።።።። Che-M...  \n",
       "104  ቀጠሮ ያስይዙ በ ጥሪ ማዕከላችን 9798 በመደወል የዕንቅርት ህመም መቆጣ...  \n",
       "105  ቀጠሮ ያስይዙ በ ጥሪ ማዕከላችን 9798 በመደወል የግፊት መድሃኒትዎን በ...  "
      ]
     },
     "execution_count": 10,
     "metadata": {},
     "output_type": "execute_result"
    }
   ],
   "source": [
    "scrappedData.tail(10)\n"
   ]
  },
  {
   "cell_type": "markdown",
   "metadata": {},
   "source": [
    "## DBT -> Data Build Tool\n"
   ]
  },
  {
   "cell_type": "markdown",
   "metadata": {},
   "source": [
    "### Install Libraries\n",
    "\n",
    "pip install dbt-core\n",
    "\n",
    "pip install dbt-postgres\n",
    "\n",
    "dbt init creating_data_ware_house\n",
    "\n",
    "\n",
    "### Add necessarily file in dbt\n",
    "\n",
    "cd creating_data_ware_house\n",
    "\n",
    "add profiles.yml file\n",
    "\n",
    "configure my profile with dbt_project.yml\n",
    "\n",
    "create sql and schema file in model\n",
    "\n",
    "### Add csv file into seeds folder\n",
    "\n",
    "dbt seed\n",
    "\n",
    "### Test config\n",
    "\n",
    "dbt debug\n",
    "\n",
    "dbt run\n",
    "\n",
    "dbt test\n",
    "\n",
    "### Generate and Serve docs\n",
    "\n",
    "dbt docs generate\n",
    "\n",
    "dbt docs serve"
   ]
  },
  {
   "cell_type": "markdown",
   "metadata": {},
   "source": [
    "# Object Detection Using YOLO"
   ]
  },
  {
   "cell_type": "markdown",
   "metadata": {},
   "source": [
    "pip install opencv-python torch torchvision tensorflow\n"
   ]
  },
  {
   "cell_type": "markdown",
   "metadata": {},
   "source": [
    "git clone https://github.com/ultralytics/yolov5.git\n",
    "cd yolov5\n",
    "pip install -r requirements.txt\n"
   ]
  },
  {
   "cell_type": "markdown",
   "metadata": {},
   "source": [
    "python detect.py --source data/images/ --weights yolov5s.pt --conf 0.4 --save-txt --save-conf\n"
   ]
  },
  {
   "cell_type": "code",
   "execution_count": 11,
   "metadata": {},
   "outputs": [],
   "source": [
    "import os\n",
    "import pandas as pd\n",
    "\n",
    "results = []\n",
    "for filename in os.listdir('yolov5/runs/detect/exp/labels'):\n",
    "    if filename.endswith('.txt'):\n",
    "        with open(f'yolov5/runs/detect/exp/labels/{filename}') as f:\n",
    "            for line in f:\n",
    "                class_id, x_center, y_center, width, height, conf = line.strip().split()\n",
    "                results.append([filename, class_id, x_center, y_center, width, height, conf])\n",
    "\n",
    "df = pd.DataFrame(results, columns=['Image', 'Class', 'X_Center', 'Y_Center', 'Width', 'Height', 'Confidence'])\n",
    "df.to_csv('detection_results.csv', index=False)\n"
   ]
  },
  {
   "cell_type": "code",
   "execution_count": 12,
   "metadata": {},
   "outputs": [],
   "source": [
    "detectedImage= pd.read_csv('detection_results.csv')\n"
   ]
  },
  {
   "cell_type": "code",
   "execution_count": 13,
   "metadata": {},
   "outputs": [
    {
     "data": {
      "text/html": [
       "<div>\n",
       "<style scoped>\n",
       "    .dataframe tbody tr th:only-of-type {\n",
       "        vertical-align: middle;\n",
       "    }\n",
       "\n",
       "    .dataframe tbody tr th {\n",
       "        vertical-align: top;\n",
       "    }\n",
       "\n",
       "    .dataframe thead th {\n",
       "        text-align: right;\n",
       "    }\n",
       "</style>\n",
       "<table border=\"1\" class=\"dataframe\">\n",
       "  <thead>\n",
       "    <tr style=\"text-align: right;\">\n",
       "      <th></th>\n",
       "      <th>Image</th>\n",
       "      <th>Class</th>\n",
       "      <th>X_Center</th>\n",
       "      <th>Y_Center</th>\n",
       "      <th>Width</th>\n",
       "      <th>Height</th>\n",
       "      <th>Confidence</th>\n",
       "    </tr>\n",
       "  </thead>\n",
       "  <tbody>\n",
       "    <tr>\n",
       "      <th>0</th>\n",
       "      <td>@lobelia4cosmetics_12471.txt</td>\n",
       "      <td>0</td>\n",
       "      <td>0.467553</td>\n",
       "      <td>0.517969</td>\n",
       "      <td>0.259578</td>\n",
       "      <td>0.376563</td>\n",
       "      <td>0.892511</td>\n",
       "    </tr>\n",
       "    <tr>\n",
       "      <th>1</th>\n",
       "      <td>@lobelia4cosmetics_12480.txt</td>\n",
       "      <td>73</td>\n",
       "      <td>0.506348</td>\n",
       "      <td>0.943359</td>\n",
       "      <td>0.516602</td>\n",
       "      <td>0.105469</td>\n",
       "      <td>0.575717</td>\n",
       "    </tr>\n",
       "    <tr>\n",
       "      <th>2</th>\n",
       "      <td>@CheMed123_71.txt</td>\n",
       "      <td>0</td>\n",
       "      <td>0.101562</td>\n",
       "      <td>0.403125</td>\n",
       "      <td>0.116319</td>\n",
       "      <td>0.112500</td>\n",
       "      <td>0.827497</td>\n",
       "    </tr>\n",
       "    <tr>\n",
       "      <th>3</th>\n",
       "      <td>@CheMed123_71.txt</td>\n",
       "      <td>0</td>\n",
       "      <td>0.496528</td>\n",
       "      <td>0.552344</td>\n",
       "      <td>0.416667</td>\n",
       "      <td>0.565625</td>\n",
       "      <td>0.935870</td>\n",
       "    </tr>\n",
       "    <tr>\n",
       "      <th>4</th>\n",
       "      <td>@lobelia4cosmetics_12479.txt</td>\n",
       "      <td>41</td>\n",
       "      <td>0.431525</td>\n",
       "      <td>0.798880</td>\n",
       "      <td>0.242894</td>\n",
       "      <td>0.250646</td>\n",
       "      <td>0.789149</td>\n",
       "    </tr>\n",
       "    <tr>\n",
       "      <th>5</th>\n",
       "      <td>@CheMed123_67.txt</td>\n",
       "      <td>11</td>\n",
       "      <td>0.145833</td>\n",
       "      <td>0.876852</td>\n",
       "      <td>0.152778</td>\n",
       "      <td>0.209259</td>\n",
       "      <td>0.859066</td>\n",
       "    </tr>\n",
       "    <tr>\n",
       "      <th>6</th>\n",
       "      <td>@lobelia4cosmetics_12470.txt</td>\n",
       "      <td>39</td>\n",
       "      <td>0.614453</td>\n",
       "      <td>0.573047</td>\n",
       "      <td>0.249219</td>\n",
       "      <td>0.727344</td>\n",
       "      <td>0.442317</td>\n",
       "    </tr>\n",
       "    <tr>\n",
       "      <th>7</th>\n",
       "      <td>@CheMed123_81.txt</td>\n",
       "      <td>39</td>\n",
       "      <td>0.518056</td>\n",
       "      <td>0.734259</td>\n",
       "      <td>0.219444</td>\n",
       "      <td>0.437037</td>\n",
       "      <td>0.483794</td>\n",
       "    </tr>\n",
       "    <tr>\n",
       "      <th>8</th>\n",
       "      <td>@CheMed123_81.txt</td>\n",
       "      <td>39</td>\n",
       "      <td>0.718518</td>\n",
       "      <td>0.758796</td>\n",
       "      <td>0.200000</td>\n",
       "      <td>0.397222</td>\n",
       "      <td>0.655023</td>\n",
       "    </tr>\n",
       "    <tr>\n",
       "      <th>9</th>\n",
       "      <td>@CheMed123_81.txt</td>\n",
       "      <td>39</td>\n",
       "      <td>0.316667</td>\n",
       "      <td>0.755093</td>\n",
       "      <td>0.198148</td>\n",
       "      <td>0.386111</td>\n",
       "      <td>0.732168</td>\n",
       "    </tr>\n",
       "  </tbody>\n",
       "</table>\n",
       "</div>"
      ],
      "text/plain": [
       "                          Image  Class  X_Center  Y_Center     Width  \\\n",
       "0  @lobelia4cosmetics_12471.txt      0  0.467553  0.517969  0.259578   \n",
       "1  @lobelia4cosmetics_12480.txt     73  0.506348  0.943359  0.516602   \n",
       "2             @CheMed123_71.txt      0  0.101562  0.403125  0.116319   \n",
       "3             @CheMed123_71.txt      0  0.496528  0.552344  0.416667   \n",
       "4  @lobelia4cosmetics_12479.txt     41  0.431525  0.798880  0.242894   \n",
       "5             @CheMed123_67.txt     11  0.145833  0.876852  0.152778   \n",
       "6  @lobelia4cosmetics_12470.txt     39  0.614453  0.573047  0.249219   \n",
       "7             @CheMed123_81.txt     39  0.518056  0.734259  0.219444   \n",
       "8             @CheMed123_81.txt     39  0.718518  0.758796  0.200000   \n",
       "9             @CheMed123_81.txt     39  0.316667  0.755093  0.198148   \n",
       "\n",
       "     Height  Confidence  \n",
       "0  0.376563    0.892511  \n",
       "1  0.105469    0.575717  \n",
       "2  0.112500    0.827497  \n",
       "3  0.565625    0.935870  \n",
       "4  0.250646    0.789149  \n",
       "5  0.209259    0.859066  \n",
       "6  0.727344    0.442317  \n",
       "7  0.437037    0.483794  \n",
       "8  0.397222    0.655023  \n",
       "9  0.386111    0.732168  "
      ]
     },
     "execution_count": 13,
     "metadata": {},
     "output_type": "execute_result"
    }
   ],
   "source": [
    "detectedImage.head(10)\n"
   ]
  },
  {
   "cell_type": "code",
   "execution_count": 14,
   "metadata": {},
   "outputs": [],
   "source": [
    "detectedImage['Image'] = detectedImage['Image'].str.replace('@', '', regex=False)\n",
    "detectedImage['Image'] = detectedImage['Image'].str.replace('.txt', '', regex=False)\n"
   ]
  },
  {
   "cell_type": "code",
   "execution_count": 16,
   "metadata": {},
   "outputs": [
    {
     "name": "stderr",
     "output_type": "stream",
     "text": [
      "2024-10-15 16:38:14,137 - INFO - Creating table detected_image...\n",
      "2024-10-15 16:38:14,157 - INFO - Table creation attempted.\n",
      "2024-10-15 16:38:14,158 - INFO - Processing row 0: lobelia4cosmetics_12471\n",
      "2024-10-15 16:38:14,159 - INFO - Data inserted for row 0.\n",
      "2024-10-15 16:38:14,161 - INFO - Processing row 1: lobelia4cosmetics_12480\n",
      "2024-10-15 16:38:14,162 - INFO - Data inserted for row 1.\n",
      "2024-10-15 16:38:14,163 - INFO - Processing row 2: CheMed123_71\n",
      "2024-10-15 16:38:14,164 - INFO - Data inserted for row 2.\n",
      "2024-10-15 16:38:14,165 - INFO - Processing row 3: CheMed123_71\n",
      "2024-10-15 16:38:14,166 - INFO - Data inserted for row 3.\n",
      "2024-10-15 16:38:14,167 - INFO - Processing row 4: lobelia4cosmetics_12479\n",
      "2024-10-15 16:38:14,169 - INFO - Data inserted for row 4.\n",
      "2024-10-15 16:38:14,170 - INFO - Processing row 5: CheMed123_67\n",
      "2024-10-15 16:38:14,171 - INFO - Data inserted for row 5.\n",
      "2024-10-15 16:38:14,172 - INFO - Processing row 6: lobelia4cosmetics_12470\n",
      "2024-10-15 16:38:14,173 - INFO - Data inserted for row 6.\n",
      "2024-10-15 16:38:14,174 - INFO - Processing row 7: CheMed123_81\n",
      "2024-10-15 16:38:14,175 - INFO - Data inserted for row 7.\n",
      "2024-10-15 16:38:14,175 - INFO - Processing row 8: CheMed123_81\n",
      "2024-10-15 16:38:14,177 - INFO - Data inserted for row 8.\n",
      "2024-10-15 16:38:14,178 - INFO - Processing row 9: CheMed123_81\n",
      "2024-10-15 16:38:14,179 - INFO - Data inserted for row 9.\n",
      "2024-10-15 16:38:14,180 - INFO - Processing row 10: CheMed123_81\n",
      "2024-10-15 16:38:14,180 - INFO - Data inserted for row 10.\n",
      "2024-10-15 16:38:14,181 - INFO - Processing row 11: CheMed123_81\n",
      "2024-10-15 16:38:14,182 - INFO - Data inserted for row 11.\n",
      "2024-10-15 16:38:14,182 - INFO - Processing row 12: CheMed123_93\n",
      "2024-10-15 16:38:14,184 - INFO - Data inserted for row 12.\n",
      "2024-10-15 16:38:14,185 - INFO - Processing row 13: CheMed123_95\n",
      "2024-10-15 16:38:14,186 - INFO - Data inserted for row 13.\n",
      "2024-10-15 16:38:14,187 - INFO - Processing row 14: lobelia4cosmetics_12493\n",
      "2024-10-15 16:38:14,189 - INFO - Data inserted for row 14.\n",
      "2024-10-15 16:38:14,190 - INFO - Processing row 15: CheMed123_59\n",
      "2024-10-15 16:38:14,191 - INFO - Data inserted for row 15.\n",
      "2024-10-15 16:38:14,192 - INFO - Processing row 16: lobelia4cosmetics_12472\n",
      "2024-10-15 16:38:14,193 - INFO - Data inserted for row 16.\n",
      "2024-10-15 16:38:14,194 - INFO - Processing row 17: CheMed123_82\n",
      "2024-10-15 16:38:14,195 - INFO - Data inserted for row 17.\n",
      "2024-10-15 16:38:14,196 - INFO - Processing row 18: CheMed123_82\n",
      "2024-10-15 16:38:14,197 - INFO - Data inserted for row 18.\n",
      "2024-10-15 16:38:14,198 - INFO - Processing row 19: CheMed123_82\n",
      "2024-10-15 16:38:14,200 - INFO - Data inserted for row 19.\n",
      "2024-10-15 16:38:14,201 - INFO - Processing row 20: CheMed123_82\n",
      "2024-10-15 16:38:14,202 - INFO - Data inserted for row 20.\n",
      "2024-10-15 16:38:14,203 - INFO - Processing row 21: CheMed123_80\n",
      "2024-10-15 16:38:14,205 - INFO - Data inserted for row 21.\n",
      "2024-10-15 16:38:14,206 - INFO - Processing row 22: CheMed123_80\n",
      "2024-10-15 16:38:14,207 - INFO - Data inserted for row 22.\n",
      "2024-10-15 16:38:14,208 - INFO - Processing row 23: CheMed123_76\n",
      "2024-10-15 16:38:14,209 - INFO - Data inserted for row 23.\n",
      "2024-10-15 16:38:14,210 - INFO - Processing row 24: zidane\n",
      "2024-10-15 16:38:14,211 - INFO - Data inserted for row 24.\n",
      "2024-10-15 16:38:14,212 - INFO - Processing row 25: zidane\n",
      "2024-10-15 16:38:14,213 - INFO - Data inserted for row 25.\n",
      "2024-10-15 16:38:14,214 - INFO - Processing row 26: zidane\n",
      "2024-10-15 16:38:14,215 - INFO - Data inserted for row 26.\n",
      "2024-10-15 16:38:14,217 - INFO - Processing row 27: CheMed123_77\n",
      "2024-10-15 16:38:14,219 - INFO - Data inserted for row 27.\n",
      "2024-10-15 16:38:14,220 - INFO - Processing row 28: CheMed123_77\n",
      "2024-10-15 16:38:14,222 - INFO - Data inserted for row 28.\n",
      "2024-10-15 16:38:14,223 - INFO - Processing row 29: CheMed123_77\n",
      "2024-10-15 16:38:14,224 - INFO - Data inserted for row 29.\n",
      "2024-10-15 16:38:14,225 - INFO - Processing row 30: CheMed123_77\n",
      "2024-10-15 16:38:14,226 - INFO - Data inserted for row 30.\n",
      "2024-10-15 16:38:14,227 - INFO - Processing row 31: CheMed123_77\n",
      "2024-10-15 16:38:14,228 - INFO - Data inserted for row 31.\n",
      "2024-10-15 16:38:14,228 - INFO - Processing row 32: bus\n",
      "2024-10-15 16:38:14,229 - INFO - Data inserted for row 32.\n",
      "2024-10-15 16:38:14,230 - INFO - Processing row 33: bus\n",
      "2024-10-15 16:38:14,231 - INFO - Data inserted for row 33.\n",
      "2024-10-15 16:38:14,232 - INFO - Processing row 34: bus\n",
      "2024-10-15 16:38:14,233 - INFO - Data inserted for row 34.\n",
      "2024-10-15 16:38:14,234 - INFO - Processing row 35: bus\n",
      "2024-10-15 16:38:14,236 - INFO - Data inserted for row 35.\n",
      "2024-10-15 16:38:14,237 - INFO - Processing row 36: bus\n",
      "2024-10-15 16:38:14,238 - INFO - Data inserted for row 36.\n",
      "2024-10-15 16:38:14,238 - INFO - Processing row 37: CheMed123_96\n",
      "2024-10-15 16:38:14,240 - INFO - Data inserted for row 37.\n",
      "2024-10-15 16:38:14,240 - INFO - Processing row 38: CheMed123_86\n",
      "2024-10-15 16:38:14,242 - INFO - Data inserted for row 38.\n",
      "2024-10-15 16:38:14,243 - INFO - Processing row 39: CheMed123_86\n",
      "2024-10-15 16:38:14,244 - INFO - Data inserted for row 39.\n",
      "2024-10-15 16:38:14,245 - INFO - Processing row 40: CheMed123_86\n",
      "2024-10-15 16:38:14,250 - INFO - Data inserted for row 40.\n",
      "2024-10-15 16:38:14,252 - INFO - Processing row 41: CheMed123_75\n",
      "2024-10-15 16:38:14,254 - INFO - Data inserted for row 41.\n",
      "2024-10-15 16:38:14,255 - INFO - Processing row 42: CheMed123_94\n",
      "2024-10-15 16:38:14,257 - INFO - Data inserted for row 42.\n",
      "2024-10-15 16:38:14,258 - INFO - Processing row 43: CheMed123_94\n",
      "2024-10-15 16:38:14,260 - INFO - Data inserted for row 43.\n",
      "2024-10-15 16:38:14,261 - INFO - Processing row 44: CheMed123_70\n",
      "2024-10-15 16:38:14,262 - INFO - Data inserted for row 44.\n",
      "2024-10-15 16:38:14,263 - INFO - Processing row 45: CheMed123_70\n",
      "2024-10-15 16:38:14,264 - INFO - Data inserted for row 45.\n",
      "2024-10-15 16:38:14,265 - INFO - Processing row 46: CheMed123_70\n",
      "2024-10-15 16:38:14,266 - INFO - Data inserted for row 46.\n",
      "2024-10-15 16:38:14,267 - INFO - Processing row 47: CheMed123_70\n",
      "2024-10-15 16:38:14,269 - INFO - Data inserted for row 47.\n",
      "2024-10-15 16:38:14,270 - INFO - Processing row 48: CheMed123_92\n",
      "2024-10-15 16:38:14,271 - INFO - Data inserted for row 48.\n"
     ]
    }
   ],
   "source": [
    "from src.connectDatabase import export_detection_image_to_psql\n",
    "export_detection_image_to_psql(detectedImage)\n"
   ]
  },
  {
   "cell_type": "code",
   "execution_count": 19,
   "metadata": {},
   "outputs": [],
   "source": [
    "from src.connectDatabase import fetch_data_from_database\n",
    "dataFromDatabase=fetch_data_from_database()\n",
    "\n"
   ]
  },
  {
   "cell_type": "code",
   "execution_count": 20,
   "metadata": {},
   "outputs": [
    {
     "data": {
      "text/html": [
       "<div>\n",
       "<style scoped>\n",
       "    .dataframe tbody tr th:only-of-type {\n",
       "        vertical-align: middle;\n",
       "    }\n",
       "\n",
       "    .dataframe tbody tr th {\n",
       "        vertical-align: top;\n",
       "    }\n",
       "\n",
       "    .dataframe thead th {\n",
       "        text-align: right;\n",
       "    }\n",
       "</style>\n",
       "<table border=\"1\" class=\"dataframe\">\n",
       "  <thead>\n",
       "    <tr style=\"text-align: right;\">\n",
       "      <th></th>\n",
       "      <th>id</th>\n",
       "      <th>image</th>\n",
       "      <th>class</th>\n",
       "      <th>x_center</th>\n",
       "      <th>y_center</th>\n",
       "      <th>width</th>\n",
       "      <th>height</th>\n",
       "      <th>confidence</th>\n",
       "    </tr>\n",
       "  </thead>\n",
       "  <tbody>\n",
       "    <tr>\n",
       "      <th>0</th>\n",
       "      <td>1</td>\n",
       "      <td>lobelia4cosmetics_12471</td>\n",
       "      <td>0.0</td>\n",
       "      <td>0.467553</td>\n",
       "      <td>0.517969</td>\n",
       "      <td>0.259578</td>\n",
       "      <td>0.376563</td>\n",
       "      <td>0.892511</td>\n",
       "    </tr>\n",
       "    <tr>\n",
       "      <th>1</th>\n",
       "      <td>2</td>\n",
       "      <td>lobelia4cosmetics_12480</td>\n",
       "      <td>73.0</td>\n",
       "      <td>0.506348</td>\n",
       "      <td>0.943359</td>\n",
       "      <td>0.516602</td>\n",
       "      <td>0.105469</td>\n",
       "      <td>0.575717</td>\n",
       "    </tr>\n",
       "    <tr>\n",
       "      <th>2</th>\n",
       "      <td>3</td>\n",
       "      <td>CheMed123_71</td>\n",
       "      <td>0.0</td>\n",
       "      <td>0.101562</td>\n",
       "      <td>0.403125</td>\n",
       "      <td>0.116319</td>\n",
       "      <td>0.112500</td>\n",
       "      <td>0.827497</td>\n",
       "    </tr>\n",
       "    <tr>\n",
       "      <th>3</th>\n",
       "      <td>4</td>\n",
       "      <td>CheMed123_71</td>\n",
       "      <td>0.0</td>\n",
       "      <td>0.496528</td>\n",
       "      <td>0.552344</td>\n",
       "      <td>0.416667</td>\n",
       "      <td>0.565625</td>\n",
       "      <td>0.935870</td>\n",
       "    </tr>\n",
       "    <tr>\n",
       "      <th>4</th>\n",
       "      <td>5</td>\n",
       "      <td>lobelia4cosmetics_12479</td>\n",
       "      <td>41.0</td>\n",
       "      <td>0.431525</td>\n",
       "      <td>0.798880</td>\n",
       "      <td>0.242894</td>\n",
       "      <td>0.250646</td>\n",
       "      <td>0.789149</td>\n",
       "    </tr>\n",
       "    <tr>\n",
       "      <th>5</th>\n",
       "      <td>6</td>\n",
       "      <td>CheMed123_67</td>\n",
       "      <td>11.0</td>\n",
       "      <td>0.145833</td>\n",
       "      <td>0.876852</td>\n",
       "      <td>0.152778</td>\n",
       "      <td>0.209259</td>\n",
       "      <td>0.859066</td>\n",
       "    </tr>\n",
       "    <tr>\n",
       "      <th>6</th>\n",
       "      <td>7</td>\n",
       "      <td>lobelia4cosmetics_12470</td>\n",
       "      <td>39.0</td>\n",
       "      <td>0.614453</td>\n",
       "      <td>0.573047</td>\n",
       "      <td>0.249219</td>\n",
       "      <td>0.727344</td>\n",
       "      <td>0.442317</td>\n",
       "    </tr>\n",
       "    <tr>\n",
       "      <th>7</th>\n",
       "      <td>8</td>\n",
       "      <td>CheMed123_81</td>\n",
       "      <td>39.0</td>\n",
       "      <td>0.518056</td>\n",
       "      <td>0.734259</td>\n",
       "      <td>0.219444</td>\n",
       "      <td>0.437037</td>\n",
       "      <td>0.483794</td>\n",
       "    </tr>\n",
       "    <tr>\n",
       "      <th>8</th>\n",
       "      <td>9</td>\n",
       "      <td>CheMed123_81</td>\n",
       "      <td>39.0</td>\n",
       "      <td>0.718518</td>\n",
       "      <td>0.758796</td>\n",
       "      <td>0.200000</td>\n",
       "      <td>0.397222</td>\n",
       "      <td>0.655023</td>\n",
       "    </tr>\n",
       "    <tr>\n",
       "      <th>9</th>\n",
       "      <td>10</td>\n",
       "      <td>CheMed123_81</td>\n",
       "      <td>39.0</td>\n",
       "      <td>0.316667</td>\n",
       "      <td>0.755093</td>\n",
       "      <td>0.198148</td>\n",
       "      <td>0.386111</td>\n",
       "      <td>0.732168</td>\n",
       "    </tr>\n",
       "  </tbody>\n",
       "</table>\n",
       "</div>"
      ],
      "text/plain": [
       "   id                    image  class  x_center  y_center     width    height  \\\n",
       "0   1  lobelia4cosmetics_12471    0.0  0.467553  0.517969  0.259578  0.376563   \n",
       "1   2  lobelia4cosmetics_12480   73.0  0.506348  0.943359  0.516602  0.105469   \n",
       "2   3             CheMed123_71    0.0  0.101562  0.403125  0.116319  0.112500   \n",
       "3   4             CheMed123_71    0.0  0.496528  0.552344  0.416667  0.565625   \n",
       "4   5  lobelia4cosmetics_12479   41.0  0.431525  0.798880  0.242894  0.250646   \n",
       "5   6             CheMed123_67   11.0  0.145833  0.876852  0.152778  0.209259   \n",
       "6   7  lobelia4cosmetics_12470   39.0  0.614453  0.573047  0.249219  0.727344   \n",
       "7   8             CheMed123_81   39.0  0.518056  0.734259  0.219444  0.437037   \n",
       "8   9             CheMed123_81   39.0  0.718518  0.758796  0.200000  0.397222   \n",
       "9  10             CheMed123_81   39.0  0.316667  0.755093  0.198148  0.386111   \n",
       "\n",
       "   confidence  \n",
       "0    0.892511  \n",
       "1    0.575717  \n",
       "2    0.827497  \n",
       "3    0.935870  \n",
       "4    0.789149  \n",
       "5    0.859066  \n",
       "6    0.442317  \n",
       "7    0.483794  \n",
       "8    0.655023  \n",
       "9    0.732168  "
      ]
     },
     "execution_count": 20,
     "metadata": {},
     "output_type": "execute_result"
    }
   ],
   "source": [
    "dataFromDatabase.head(10)\n"
   ]
  }
 ],
 "metadata": {
  "kernelspec": {
   "display_name": ".venv",
   "language": "python",
   "name": "python3"
  },
  "language_info": {
   "codemirror_mode": {
    "name": "ipython",
    "version": 3
   },
   "file_extension": ".py",
   "mimetype": "text/x-python",
   "name": "python",
   "nbconvert_exporter": "python",
   "pygments_lexer": "ipython3",
   "version": "3.10.12"
  }
 },
 "nbformat": 4,
 "nbformat_minor": 2
}
