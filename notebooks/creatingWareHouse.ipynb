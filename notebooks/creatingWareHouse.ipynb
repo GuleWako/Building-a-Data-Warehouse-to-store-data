{
 "cells": [
  {
   "cell_type": "markdown",
   "metadata": {},
   "source": [
    "Creating a data warehouse for Ethiopian medical business data scraped from Telegram channels"
   ]
  },
  {
   "cell_type": "code",
   "execution_count": 1,
   "metadata": {},
   "outputs": [],
   "source": [
    "import os\n",
    "os.chdir('..')\n",
    "import warnings\n",
    "warnings.filterwarnings('ignore')\n",
    "import pandas as pd\n"
   ]
  },
  {
   "cell_type": "code",
   "execution_count": 2,
   "metadata": {},
   "outputs": [],
   "source": [
    "from scripts.createW_H_Impl import start_scraping\n"
   ]
  },
  {
   "cell_type": "code",
   "execution_count": 3,
   "metadata": {},
   "outputs": [],
   "source": [
    "channel = ['@DoctorsET','@lobelia4cosmetics','@yetenaweg','@EAHCI','@CheMed123']\n"
   ]
  },
  {
   "cell_type": "code",
   "execution_count": 4,
   "metadata": {},
   "outputs": [
    {
     "name": "stdout",
     "output_type": "stream",
     "text": [
      "Scrapping data...\n"
     ]
    },
    {
     "name": "stderr",
     "output_type": "stream",
     "text": [
      "Telegram is having internal issues ServerError: RPCError -500: No workers running (caused by GetStateRequest)\n"
     ]
    },
    {
     "name": "stdout",
     "output_type": "stream",
     "text": [
      "Scraping historical data from @DoctorsET (Doctors Ethiopia)...\n",
      "Finished scraping @DoctorsET\n",
      "Scraping historical data from @lobelia4cosmetics (Lobelia pharmacy and cosmetics)...\n",
      "Finished scraping @lobelia4cosmetics\n",
      "Scraping historical data from @yetenaweg (የጤና ወግ - የጤና መረጃ)...\n",
      "Finished scraping @yetenaweg\n",
      "Scraping historical data from @EAHCI (ETHIO-AMERICAN MEDICAL TRAININGS( CPD ) & HEALTH CONSULTANCY CENTER)...\n",
      "Finished scraping @EAHCI\n",
      "Scraping historical data from @CheMed123 (CheMed)...\n",
      "Finished scraping @CheMed123\n",
      "Listening for real-time messages...\n"
     ]
    }
   ],
   "source": [
    "start_scraping(channel)\n"
   ]
  }
 ],
 "metadata": {
  "kernelspec": {
   "display_name": ".venv",
   "language": "python",
   "name": "python3"
  },
  "language_info": {
   "codemirror_mode": {
    "name": "ipython",
    "version": 3
   },
   "file_extension": ".py",
   "mimetype": "text/x-python",
   "name": "python",
   "nbconvert_exporter": "python",
   "pygments_lexer": "ipython3",
   "version": "3.10.12"
  }
 },
 "nbformat": 4,
 "nbformat_minor": 2
}
