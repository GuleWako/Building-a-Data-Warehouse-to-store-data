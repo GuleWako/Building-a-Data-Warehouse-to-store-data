{
 "cells": [
  {
   "cell_type": "markdown",
   "metadata": {},
   "source": [
    "#### Creating a data warehouse for Ethiopian medical business data scraped from Telegram channels"
   ]
  },
  {
   "cell_type": "code",
   "execution_count": 1,
   "metadata": {},
   "outputs": [],
   "source": [
    "import os\n",
    "os.chdir('..')\n",
    "import warnings\n",
    "warnings.filterwarnings('ignore')\n",
    "import pandas as pd\n"
   ]
  },
  {
   "cell_type": "markdown",
   "metadata": {},
   "source": [
    "## Data scraping and collection pipeline"
   ]
  },
  {
   "cell_type": "code",
   "execution_count": 2,
   "metadata": {},
   "outputs": [],
   "source": [
    "from scripts.createW_H_Impl import start_scraping\n"
   ]
  },
  {
   "cell_type": "code",
   "execution_count": 3,
   "metadata": {},
   "outputs": [],
   "source": [
    "channel = ['@DoctorsET','@lobelia4cosmetics','@yetenaweg','@EAHCI','@CheMed123']\n"
   ]
  },
  {
   "cell_type": "code",
   "execution_count": null,
   "metadata": {},
   "outputs": [
    {
     "name": "stderr",
     "output_type": "stream",
     "text": [
      "2024-10-14 18:57:24,299 - INFO - Scrapping data...\n",
      "2024-10-14 18:57:24,301 - INFO - Connecting to 149.154.167.92:443/TcpFull...\n",
      "2024-10-14 18:57:24,405 - INFO - Connection to 149.154.167.92:443/TcpFull complete!\n"
     ]
    },
    {
     "name": "stdout",
     "output_type": "stream",
     "text": [
      "Scraping historical data from @DoctorsET (Doctors Ethiopia)...\n"
     ]
    },
    {
     "name": "stderr",
     "output_type": "stream",
     "text": [
      "2024-10-14 18:57:25,379 - INFO - Finished scraping @DoctorsET\n",
      "2024-10-14 18:57:25,665 - INFO - Starting direct file download in chunks of 131072 at 0, stride 131072\n"
     ]
    },
    {
     "name": "stdout",
     "output_type": "stream",
     "text": [
      "Scraping historical data from @lobelia4cosmetics (Lobelia pharmacy and cosmetics)...\n"
     ]
    },
    {
     "name": "stderr",
     "output_type": "stream",
     "text": [
      "2024-10-14 18:57:26,205 - INFO - Starting direct file download in chunks of 131072 at 0, stride 131072\n",
      "2024-10-14 18:57:26,458 - INFO - Starting direct file download in chunks of 131072 at 0, stride 131072\n",
      "2024-10-14 18:57:26,635 - INFO - Starting direct file download in chunks of 131072 at 0, stride 131072\n",
      "2024-10-14 18:57:27,034 - INFO - Starting direct file download in chunks of 131072 at 0, stride 131072\n",
      "2024-10-14 18:57:27,216 - INFO - Starting direct file download in chunks of 131072 at 0, stride 131072\n",
      "2024-10-14 18:57:27,361 - INFO - Starting direct file download in chunks of 131072 at 0, stride 131072\n",
      "2024-10-14 18:57:27,579 - INFO - Starting direct file download in chunks of 131072 at 0, stride 131072\n",
      "2024-10-14 18:57:27,783 - INFO - Starting direct file download in chunks of 131072 at 0, stride 131072\n",
      "2024-10-14 18:57:27,946 - INFO - Starting direct file download in chunks of 131072 at 0, stride 131072\n",
      "2024-10-14 18:57:28,160 - INFO - Starting direct file download in chunks of 131072 at 0, stride 131072\n",
      "2024-10-14 18:57:28,306 - INFO - Starting direct file download in chunks of 131072 at 0, stride 131072\n",
      "2024-10-14 18:57:28,448 - INFO - Starting direct file download in chunks of 131072 at 0, stride 131072\n",
      "2024-10-14 18:57:28,823 - INFO - Starting direct file download in chunks of 131072 at 0, stride 131072\n",
      "2024-10-14 18:57:29,208 - INFO - Starting direct file download in chunks of 131072 at 0, stride 131072\n",
      "2024-10-14 18:57:29,413 - INFO - Starting direct file download in chunks of 131072 at 0, stride 131072\n",
      "2024-10-14 18:57:29,748 - INFO - Starting direct file download in chunks of 131072 at 0, stride 131072\n",
      "2024-10-14 18:57:30,094 - INFO - Starting direct file download in chunks of 131072 at 0, stride 131072\n",
      "2024-10-14 18:57:30,289 - INFO - Starting direct file download in chunks of 131072 at 0, stride 131072\n",
      "2024-10-14 18:57:30,435 - INFO - Starting direct file download in chunks of 131072 at 0, stride 131072\n",
      "2024-10-14 18:57:30,851 - INFO - Starting direct file download in chunks of 131072 at 0, stride 131072\n",
      "2024-10-14 18:57:30,989 - INFO - Starting direct file download in chunks of 131072 at 0, stride 131072\n",
      "2024-10-14 18:57:31,317 - INFO - Starting direct file download in chunks of 131072 at 0, stride 131072\n",
      "2024-10-14 18:57:31,735 - INFO - Starting direct file download in chunks of 131072 at 0, stride 131072\n",
      "2024-10-14 18:57:31,960 - INFO - Starting direct file download in chunks of 131072 at 0, stride 131072\n",
      "2024-10-14 18:57:32,145 - INFO - Starting direct file download in chunks of 131072 at 0, stride 131072\n",
      "2024-10-14 18:57:32,505 - INFO - Starting direct file download in chunks of 131072 at 0, stride 131072\n",
      "2024-10-14 18:57:32,668 - INFO - Starting direct file download in chunks of 131072 at 0, stride 131072\n",
      "2024-10-14 18:57:32,793 - INFO - Finished scraping @lobelia4cosmetics\n",
      "2024-10-14 18:57:33,111 - INFO - Finished scraping @yetenaweg\n"
     ]
    },
    {
     "name": "stdout",
     "output_type": "stream",
     "text": [
      "Scraping historical data from @yetenaweg (የጤና ወግ - የጤና መረጃ)...\n",
      "Scraping historical data from @EAHCI (ETHIO-AMERICAN MEDICAL TRAININGS( CPD ) & HEALTH CONSULTANCY CENTER)...\n"
     ]
    },
    {
     "name": "stderr",
     "output_type": "stream",
     "text": [
      "2024-10-14 18:57:33,496 - INFO - Finished scraping @EAHCI\n",
      "2024-10-14 18:57:33,788 - INFO - Starting direct file download in chunks of 131072 at 0, stride 131072\n"
     ]
    },
    {
     "name": "stdout",
     "output_type": "stream",
     "text": [
      "Scraping historical data from @CheMed123 (CheMed)...\n"
     ]
    },
    {
     "name": "stderr",
     "output_type": "stream",
     "text": [
      "2024-10-14 18:57:33,959 - INFO - Starting direct file download in chunks of 131072 at 0, stride 131072\n",
      "2024-10-14 18:57:34,337 - INFO - Starting direct file download in chunks of 131072 at 0, stride 131072\n",
      "2024-10-14 18:57:34,523 - INFO - Starting direct file download in chunks of 131072 at 0, stride 131072\n",
      "2024-10-14 18:57:34,766 - INFO - Starting direct file download in chunks of 131072 at 0, stride 131072\n",
      "2024-10-14 18:57:35,137 - INFO - Starting direct file download in chunks of 131072 at 0, stride 131072\n",
      "2024-10-14 18:57:35,535 - INFO - Starting direct file download in chunks of 131072 at 0, stride 131072\n",
      "2024-10-14 18:57:35,717 - INFO - Starting direct file download in chunks of 131072 at 0, stride 131072\n",
      "2024-10-14 18:57:36,111 - INFO - Starting direct file download in chunks of 131072 at 0, stride 131072\n",
      "2024-10-14 18:57:36,437 - INFO - Starting direct file download in chunks of 131072 at 0, stride 131072\n",
      "2024-10-14 18:57:36,779 - INFO - Starting direct file download in chunks of 131072 at 0, stride 131072\n",
      "2024-10-14 18:57:37,145 - INFO - Starting direct file download in chunks of 131072 at 0, stride 131072\n",
      "2024-10-14 18:57:37,332 - INFO - Starting direct file download in chunks of 131072 at 0, stride 131072\n",
      "2024-10-14 18:57:37,526 - INFO - Starting direct file download in chunks of 131072 at 0, stride 131072\n",
      "2024-10-14 18:57:37,889 - INFO - Starting direct file download in chunks of 131072 at 0, stride 131072\n",
      "2024-10-14 18:57:38,104 - INFO - Starting direct file download in chunks of 131072 at 0, stride 131072\n",
      "2024-10-14 18:57:38,502 - INFO - Starting direct file download in chunks of 131072 at 0, stride 131072\n",
      "2024-10-14 18:57:38,901 - INFO - Starting direct file download in chunks of 131072 at 0, stride 131072\n",
      "2024-10-14 18:57:39,464 - INFO - Starting direct file download in chunks of 131072 at 0, stride 131072\n",
      "2024-10-14 18:57:39,848 - INFO - Starting direct file download in chunks of 131072 at 0, stride 131072\n",
      "2024-10-14 18:57:40,318 - INFO - Starting direct file download in chunks of 131072 at 0, stride 131072\n",
      "2024-10-14 18:57:40,749 - INFO - Starting direct file download in chunks of 131072 at 0, stride 131072\n",
      "2024-10-14 18:57:41,182 - INFO - Starting direct file download in chunks of 131072 at 0, stride 131072\n",
      "2024-10-14 18:57:41,664 - INFO - Starting direct file download in chunks of 131072 at 0, stride 131072\n",
      "2024-10-14 18:57:41,908 - INFO - Starting direct file download in chunks of 131072 at 0, stride 131072\n",
      "2024-10-14 18:57:42,129 - INFO - Finished scraping @CheMed123\n",
      "2024-10-14 18:57:42,130 - INFO - Listening for real-time messages...\n"
     ]
    },
    {
     "name": "stderr",
     "output_type": "stream",
     "text": [
      "2024-10-14 19:34:48,123 - INFO - Got difference for account updates\n",
      "2024-10-14 19:53:35,498 - INFO - Got difference for channel 2197711891 updates\n",
      "2024-10-14 20:05:29,853 - INFO - Got difference for channel 2197711891 updates\n",
      "2024-10-14 20:11:30,518 - INFO - Got difference for channel 2197711891 updates\n",
      "2024-10-14 20:19:26,375 - INFO - Got difference for channel 2197711891 updates\n",
      "2024-10-14 20:19:48,565 - INFO - Got difference for account updates\n",
      "2024-10-14 20:19:48,706 - INFO - Got difference for channel 1898050779 updates\n",
      "2024-10-14 20:20:02,209 - INFO - Got difference for channel 1898050779 updates\n",
      "2024-10-14 20:23:28,783 - INFO - Got difference for channel 2197711891 updates\n"
     ]
    }
   ],
   "source": [
    "start_scraping(channel)\n"
   ]
  },
  {
   "cell_type": "markdown",
   "metadata": {},
   "source": [
    "### Read scrapped datasets"
   ]
  },
  {
   "cell_type": "code",
   "execution_count": 5,
   "metadata": {},
   "outputs": [],
   "source": [
    "scrappedData = pd.read_csv('telegram_data.csv')\n"
   ]
  },
  {
   "cell_type": "code",
   "execution_count": 6,
   "metadata": {},
   "outputs": [
    {
     "data": {
      "text/html": [
       "<div>\n",
       "<style scoped>\n",
       "    .dataframe tbody tr th:only-of-type {\n",
       "        vertical-align: middle;\n",
       "    }\n",
       "\n",
       "    .dataframe tbody tr th {\n",
       "        vertical-align: top;\n",
       "    }\n",
       "\n",
       "    .dataframe thead th {\n",
       "        text-align: right;\n",
       "    }\n",
       "</style>\n",
       "<table border=\"1\" class=\"dataframe\">\n",
       "  <thead>\n",
       "    <tr style=\"text-align: right;\">\n",
       "      <th></th>\n",
       "      <th>message_date</th>\n",
       "      <th>message_id</th>\n",
       "      <th>message_description</th>\n",
       "    </tr>\n",
       "  </thead>\n",
       "  <tbody>\n",
       "    <tr>\n",
       "      <th>0</th>\n",
       "      <td>2023-12-18 17:04:02</td>\n",
       "      <td>864</td>\n",
       "      <td>በቀን አንዴ ብቻ የሚባለው የቢዝነስ አማካሪ በ 10 000 ብር ብቻ የተጀ...</td>\n",
       "    </tr>\n",
       "    <tr>\n",
       "      <th>1</th>\n",
       "      <td>2023-11-03 16:14:39</td>\n",
       "      <td>863</td>\n",
       "      <td>ዶክተርስ ኢትዮጵያ በ አዲስ አቀራረብ በ ቴሌቪዥን ፕሮግራሙን ለመጀመር ከ...</td>\n",
       "    </tr>\n",
       "    <tr>\n",
       "      <th>2</th>\n",
       "      <td>2023-10-02 16:37:39</td>\n",
       "      <td>862</td>\n",
       "      <td>ሞት በስኳር ለልጆቻችን የምናሲዘው ምሳቃ ሳናቀው እድሚያቸውን ይቀንሰው ይ...</td>\n",
       "    </tr>\n",
       "    <tr>\n",
       "      <th>3</th>\n",
       "      <td>2023-09-16 07:54:32</td>\n",
       "      <td>861</td>\n",
       "      <td>ከ HIV የተፈወሰ ሰው አጋጥሟችሁ ያቃል ? ፈውስ እና ህክምና ? ሙሉ ቪ...</td>\n",
       "    </tr>\n",
       "    <tr>\n",
       "      <th>4</th>\n",
       "      <td>2023-09-01 16:16:15</td>\n",
       "      <td>860</td>\n",
       "      <td>በቅርብ ጊዜ በሃገራችን ላይ እየተስተዋለ ያለ የተመሳሳይ ፆታ Homosex...</td>\n",
       "    </tr>\n",
       "    <tr>\n",
       "      <th>5</th>\n",
       "      <td>2023-08-29 17:20:05</td>\n",
       "      <td>859</td>\n",
       "      <td>ዶክተርስ ኢትዮጽያ በአዲስ ፕሮገራም ጀመረ ማረጥ ሜኖፖዝ ጋር ተያይዞ የሚ...</td>\n",
       "    </tr>\n",
       "    <tr>\n",
       "      <th>6</th>\n",
       "      <td>2022-08-02 17:42:08</td>\n",
       "      <td>848</td>\n",
       "      <td>ክረምቱን ስፖርት መስራት አስበው ጂም ለመግባት ካልቻሉ ባሉበት ቦታ ሆነው...</td>\n",
       "    </tr>\n",
       "    <tr>\n",
       "      <th>7</th>\n",
       "      <td>2022-06-12 17:15:47</td>\n",
       "      <td>847</td>\n",
       "      <td>ስፖርት የመስራት ሱስ ይኖር ይሆን? በአሁኑ ወቅት ብዙ የስፖርት መስሪያ ...</td>\n",
       "    </tr>\n",
       "    <tr>\n",
       "      <th>8</th>\n",
       "      <td>2022-05-31 17:51:13</td>\n",
       "      <td>846</td>\n",
       "      <td>ድንገተኛ አደጋ / የአጥንት ስብራት አያርገውና ድንገተኛ የሆነ አደጋ ቢደ...</td>\n",
       "    </tr>\n",
       "    <tr>\n",
       "      <th>9</th>\n",
       "      <td>2022-05-20 18:04:53</td>\n",
       "      <td>845</td>\n",
       "      <td>ከትንሽ ግዚያት በፊት ስፖርት መስራት እንደ ቅንጦት ይታይ ነበር አሁን ላ...</td>\n",
       "    </tr>\n",
       "  </tbody>\n",
       "</table>\n",
       "</div>"
      ],
      "text/plain": [
       "          message_date  message_id  \\\n",
       "0  2023-12-18 17:04:02         864   \n",
       "1  2023-11-03 16:14:39         863   \n",
       "2  2023-10-02 16:37:39         862   \n",
       "3  2023-09-16 07:54:32         861   \n",
       "4  2023-09-01 16:16:15         860   \n",
       "5  2023-08-29 17:20:05         859   \n",
       "6  2022-08-02 17:42:08         848   \n",
       "7  2022-06-12 17:15:47         847   \n",
       "8  2022-05-31 17:51:13         846   \n",
       "9  2022-05-20 18:04:53         845   \n",
       "\n",
       "                                 message_description  \n",
       "0  በቀን አንዴ ብቻ የሚባለው የቢዝነስ አማካሪ በ 10 000 ብር ብቻ የተጀ...  \n",
       "1  ዶክተርስ ኢትዮጵያ በ አዲስ አቀራረብ በ ቴሌቪዥን ፕሮግራሙን ለመጀመር ከ...  \n",
       "2  ሞት በስኳር ለልጆቻችን የምናሲዘው ምሳቃ ሳናቀው እድሚያቸውን ይቀንሰው ይ...  \n",
       "3  ከ HIV የተፈወሰ ሰው አጋጥሟችሁ ያቃል ? ፈውስ እና ህክምና ? ሙሉ ቪ...  \n",
       "4  በቅርብ ጊዜ በሃገራችን ላይ እየተስተዋለ ያለ የተመሳሳይ ፆታ Homosex...  \n",
       "5  ዶክተርስ ኢትዮጽያ በአዲስ ፕሮገራም ጀመረ ማረጥ ሜኖፖዝ ጋር ተያይዞ የሚ...  \n",
       "6  ክረምቱን ስፖርት መስራት አስበው ጂም ለመግባት ካልቻሉ ባሉበት ቦታ ሆነው...  \n",
       "7  ስፖርት የመስራት ሱስ ይኖር ይሆን? በአሁኑ ወቅት ብዙ የስፖርት መስሪያ ...  \n",
       "8  ድንገተኛ አደጋ / የአጥንት ስብራት አያርገውና ድንገተኛ የሆነ አደጋ ቢደ...  \n",
       "9  ከትንሽ ግዚያት በፊት ስፖርት መስራት እንደ ቅንጦት ይታይ ነበር አሁን ላ...  "
      ]
     },
     "execution_count": 6,
     "metadata": {},
     "output_type": "execute_result"
    }
   ],
   "source": [
    "scrappedData.head(10)\n"
   ]
  },
  {
   "cell_type": "markdown",
   "metadata": {},
   "source": [
    "## Data Cleaning and Transformation"
   ]
  },
  {
   "cell_type": "markdown",
   "metadata": {},
   "source": [
    "### Data Cleaning"
   ]
  },
  {
   "cell_type": "code",
   "execution_count": 7,
   "metadata": {},
   "outputs": [
    {
     "data": {
      "text/plain": [
       "message_date           0\n",
       "message_id             0\n",
       "message_description    0\n",
       "dtype: int64"
      ]
     },
     "execution_count": 7,
     "metadata": {},
     "output_type": "execute_result"
    }
   ],
   "source": [
    "scrappedData.isnull().sum()\n"
   ]
  },
  {
   "cell_type": "code",
   "execution_count": 8,
   "metadata": {},
   "outputs": [
    {
     "data": {
      "text/plain": [
       "message_date           0\n",
       "message_id             0\n",
       "message_description    0\n",
       "dtype: int64"
      ]
     },
     "execution_count": 8,
     "metadata": {},
     "output_type": "execute_result"
    }
   ],
   "source": [
    "scrappedData.isna().sum()\n"
   ]
  },
  {
   "cell_type": "code",
   "execution_count": 9,
   "metadata": {},
   "outputs": [],
   "source": [
    "scrappedData.drop_duplicates(inplace=True)\n",
    "scrappedData.dropna(inplace=True)\n"
   ]
  },
  {
   "cell_type": "code",
   "execution_count": 10,
   "metadata": {},
   "outputs": [
    {
     "data": {
      "text/html": [
       "<div>\n",
       "<style scoped>\n",
       "    .dataframe tbody tr th:only-of-type {\n",
       "        vertical-align: middle;\n",
       "    }\n",
       "\n",
       "    .dataframe tbody tr th {\n",
       "        vertical-align: top;\n",
       "    }\n",
       "\n",
       "    .dataframe thead th {\n",
       "        text-align: right;\n",
       "    }\n",
       "</style>\n",
       "<table border=\"1\" class=\"dataframe\">\n",
       "  <thead>\n",
       "    <tr style=\"text-align: right;\">\n",
       "      <th></th>\n",
       "      <th>message_date</th>\n",
       "      <th>message_id</th>\n",
       "      <th>message_description</th>\n",
       "    </tr>\n",
       "  </thead>\n",
       "  <tbody>\n",
       "    <tr>\n",
       "      <th>96</th>\n",
       "      <td>2023-01-04 05:58:02</td>\n",
       "      <td>77</td>\n",
       "      <td>Nature Made Vitamin supplements Che-Med በደምበኞቻ...</td>\n",
       "    </tr>\n",
       "    <tr>\n",
       "      <th>97</th>\n",
       "      <td>2023-01-03 17:49:48</td>\n",
       "      <td>76</td>\n",
       "      <td>በ መድሃኒትዎን የሚያዙበትን መንገድ የሚያሳይ tiktok ቪዲዮ።</td>\n",
       "    </tr>\n",
       "    <tr>\n",
       "      <th>98</th>\n",
       "      <td>2023-01-03 05:48:34</td>\n",
       "      <td>75</td>\n",
       "      <td>በChe-Med የጥሪ ማዕከል 9798 ላይ ደውለው በመመዝገብ በየወሩ የሚያ...</td>\n",
       "    </tr>\n",
       "    <tr>\n",
       "      <th>99</th>\n",
       "      <td>2022-12-30 15:45:35</td>\n",
       "      <td>71</td>\n",
       "      <td>Che-Med at Smart city symposium National scien...</td>\n",
       "    </tr>\n",
       "    <tr>\n",
       "      <th>100</th>\n",
       "      <td>2022-12-28 17:02:08</td>\n",
       "      <td>70</td>\n",
       "      <td>Buy you Power Plus supplement from Che-Med. Fo...</td>\n",
       "    </tr>\n",
       "    <tr>\n",
       "      <th>101</th>\n",
       "      <td>2022-12-28 06:31:50</td>\n",
       "      <td>67</td>\n",
       "      <td>Order your Power plus Vitamin and mineral supp...</td>\n",
       "    </tr>\n",
       "    <tr>\n",
       "      <th>102</th>\n",
       "      <td>2022-12-27 17:06:32</td>\n",
       "      <td>64</td>\n",
       "      <td>Che-Med Che-Med የመድሀኒትና የህክምና እቃዎች አፋላጊ እና አቅራ...</td>\n",
       "    </tr>\n",
       "    <tr>\n",
       "      <th>103</th>\n",
       "      <td>2022-12-25 15:46:05</td>\n",
       "      <td>62</td>\n",
       "      <td>የምስራች ከChe-Med ።።።።።።Che-Med አስታዋሽ።።።።።። Che-M...</td>\n",
       "    </tr>\n",
       "    <tr>\n",
       "      <th>104</th>\n",
       "      <td>2022-12-23 06:26:15</td>\n",
       "      <td>60</td>\n",
       "      <td>ቀጠሮ ያስይዙ በ ጥሪ ማዕከላችን 9798 በመደወል የዕንቅርት ህመም መቆጣ...</td>\n",
       "    </tr>\n",
       "    <tr>\n",
       "      <th>105</th>\n",
       "      <td>2022-12-22 06:40:25</td>\n",
       "      <td>59</td>\n",
       "      <td>ቀጠሮ ያስይዙ በ ጥሪ ማዕከላችን 9798 በመደወል የግፊት መድሃኒትዎን በ...</td>\n",
       "    </tr>\n",
       "  </tbody>\n",
       "</table>\n",
       "</div>"
      ],
      "text/plain": [
       "            message_date  message_id  \\\n",
       "96   2023-01-04 05:58:02          77   \n",
       "97   2023-01-03 17:49:48          76   \n",
       "98   2023-01-03 05:48:34          75   \n",
       "99   2022-12-30 15:45:35          71   \n",
       "100  2022-12-28 17:02:08          70   \n",
       "101  2022-12-28 06:31:50          67   \n",
       "102  2022-12-27 17:06:32          64   \n",
       "103  2022-12-25 15:46:05          62   \n",
       "104  2022-12-23 06:26:15          60   \n",
       "105  2022-12-22 06:40:25          59   \n",
       "\n",
       "                                   message_description  \n",
       "96   Nature Made Vitamin supplements Che-Med በደምበኞቻ...  \n",
       "97            በ መድሃኒትዎን የሚያዙበትን መንገድ የሚያሳይ tiktok ቪዲዮ።  \n",
       "98   በChe-Med የጥሪ ማዕከል 9798 ላይ ደውለው በመመዝገብ በየወሩ የሚያ...  \n",
       "99   Che-Med at Smart city symposium National scien...  \n",
       "100  Buy you Power Plus supplement from Che-Med. Fo...  \n",
       "101  Order your Power plus Vitamin and mineral supp...  \n",
       "102  Che-Med Che-Med የመድሀኒትና የህክምና እቃዎች አፋላጊ እና አቅራ...  \n",
       "103  የምስራች ከChe-Med ።።።።።።Che-Med አስታዋሽ።።።።።። Che-M...  \n",
       "104  ቀጠሮ ያስይዙ በ ጥሪ ማዕከላችን 9798 በመደወል የዕንቅርት ህመም መቆጣ...  \n",
       "105  ቀጠሮ ያስይዙ በ ጥሪ ማዕከላችን 9798 በመደወል የግፊት መድሃኒትዎን በ...  "
      ]
     },
     "execution_count": 10,
     "metadata": {},
     "output_type": "execute_result"
    }
   ],
   "source": [
    "scrappedData.tail(10)\n"
   ]
  },
  {
   "cell_type": "markdown",
   "metadata": {},
   "source": [
    "## DBT -> Data Build Tool\n"
   ]
  },
  {
   "cell_type": "markdown",
   "metadata": {},
   "source": [
    "### Install Libraries\n",
    "\n",
    "pip install dbt-core\n",
    "\n",
    "pip install dbt-postgres\n",
    "\n",
    "dbt init creating_data_ware_house\n",
    "\n",
    "\n",
    "### Add necessarily file in dbt\n",
    "\n",
    "cd creating_data_ware_house\n",
    "\n",
    "add profiles.yml file\n",
    "\n",
    "configure my profile with dbt_project.yml\n",
    "\n",
    "create sql and schema file in model\n",
    "\n",
    "### Add csv file into seeds folder\n",
    "\n",
    "dbt seed\n",
    "\n",
    "### Test config\n",
    "\n",
    "dbt debug\n",
    "\n",
    "dbt run\n",
    "\n",
    "dbt test\n",
    "\n",
    "### Generate and Serve docs\n",
    "\n",
    "dbt docs generate\n",
    "\n",
    "dbt docs serve"
   ]
  },
  {
   "cell_type": "markdown",
   "metadata": {},
   "source": [
    "# Object Detection Using YOLO"
   ]
  },
  {
   "cell_type": "markdown",
   "metadata": {},
   "source": [
    "pip install opencv-python torch torchvision tensorflow\n"
   ]
  },
  {
   "cell_type": "markdown",
   "metadata": {},
   "source": [
    "git clone https://github.com/ultralytics/yolov5.git\n",
    "cd yolov5\n",
    "pip install -r requirements.txt\n"
   ]
  },
  {
   "cell_type": "markdown",
   "metadata": {},
   "source": [
    "python detect.py --source data/images/ --weights yolov5s.pt --conf 0.4 --save-txt --save-conf\n"
   ]
  },
  {
   "cell_type": "code",
   "execution_count": 14,
   "metadata": {},
   "outputs": [],
   "source": [
    "import os\n",
    "import pandas as pd\n",
    "\n",
    "results = []\n",
    "for filename in os.listdir('yolov5/runs/detect/exp/labels'):\n",
    "    if filename.endswith('.txt'):\n",
    "        with open(f'yolov5/runs/detect/exp/labels/{filename}') as f:\n",
    "            for line in f:\n",
    "                class_id, x_center, y_center, width, height, conf = line.strip().split()\n",
    "                results.append([filename, class_id, x_center, y_center, width, height, conf])\n",
    "\n",
    "df = pd.DataFrame(results, columns=['Image', 'Class', 'X_Center', 'Y_Center', 'Width', 'Height', 'Confidence'])\n",
    "df.to_csv('detection_results.csv', index=False)\n"
   ]
  },
  {
   "cell_type": "code",
   "execution_count": 15,
   "metadata": {},
   "outputs": [],
   "source": [
    "detectedImage= pd.read_csv('detection_results.csv')\n"
   ]
  },
  {
   "cell_type": "code",
   "execution_count": 16,
   "metadata": {},
   "outputs": [
    {
     "data": {
      "text/html": [
       "<div>\n",
       "<style scoped>\n",
       "    .dataframe tbody tr th:only-of-type {\n",
       "        vertical-align: middle;\n",
       "    }\n",
       "\n",
       "    .dataframe tbody tr th {\n",
       "        vertical-align: top;\n",
       "    }\n",
       "\n",
       "    .dataframe thead th {\n",
       "        text-align: right;\n",
       "    }\n",
       "</style>\n",
       "<table border=\"1\" class=\"dataframe\">\n",
       "  <thead>\n",
       "    <tr style=\"text-align: right;\">\n",
       "      <th></th>\n",
       "      <th>Image</th>\n",
       "      <th>Class</th>\n",
       "      <th>X_Center</th>\n",
       "      <th>Y_Center</th>\n",
       "      <th>Width</th>\n",
       "      <th>Height</th>\n",
       "      <th>Confidence</th>\n",
       "    </tr>\n",
       "  </thead>\n",
       "  <tbody>\n",
       "    <tr>\n",
       "      <th>0</th>\n",
       "      <td>@lobelia4cosmetics_12471.txt</td>\n",
       "      <td>0</td>\n",
       "      <td>0.467553</td>\n",
       "      <td>0.517969</td>\n",
       "      <td>0.259578</td>\n",
       "      <td>0.376563</td>\n",
       "      <td>0.892511</td>\n",
       "    </tr>\n",
       "    <tr>\n",
       "      <th>1</th>\n",
       "      <td>@lobelia4cosmetics_12480.txt</td>\n",
       "      <td>73</td>\n",
       "      <td>0.506348</td>\n",
       "      <td>0.943359</td>\n",
       "      <td>0.516602</td>\n",
       "      <td>0.105469</td>\n",
       "      <td>0.575717</td>\n",
       "    </tr>\n",
       "    <tr>\n",
       "      <th>2</th>\n",
       "      <td>@CheMed123_71.txt</td>\n",
       "      <td>0</td>\n",
       "      <td>0.101562</td>\n",
       "      <td>0.403125</td>\n",
       "      <td>0.116319</td>\n",
       "      <td>0.112500</td>\n",
       "      <td>0.827497</td>\n",
       "    </tr>\n",
       "    <tr>\n",
       "      <th>3</th>\n",
       "      <td>@CheMed123_71.txt</td>\n",
       "      <td>0</td>\n",
       "      <td>0.496528</td>\n",
       "      <td>0.552344</td>\n",
       "      <td>0.416667</td>\n",
       "      <td>0.565625</td>\n",
       "      <td>0.935870</td>\n",
       "    </tr>\n",
       "    <tr>\n",
       "      <th>4</th>\n",
       "      <td>@lobelia4cosmetics_12479.txt</td>\n",
       "      <td>41</td>\n",
       "      <td>0.431525</td>\n",
       "      <td>0.798880</td>\n",
       "      <td>0.242894</td>\n",
       "      <td>0.250646</td>\n",
       "      <td>0.789149</td>\n",
       "    </tr>\n",
       "    <tr>\n",
       "      <th>5</th>\n",
       "      <td>@CheMed123_67.txt</td>\n",
       "      <td>11</td>\n",
       "      <td>0.145833</td>\n",
       "      <td>0.876852</td>\n",
       "      <td>0.152778</td>\n",
       "      <td>0.209259</td>\n",
       "      <td>0.859066</td>\n",
       "    </tr>\n",
       "    <tr>\n",
       "      <th>6</th>\n",
       "      <td>@lobelia4cosmetics_12470.txt</td>\n",
       "      <td>39</td>\n",
       "      <td>0.614453</td>\n",
       "      <td>0.573047</td>\n",
       "      <td>0.249219</td>\n",
       "      <td>0.727344</td>\n",
       "      <td>0.442317</td>\n",
       "    </tr>\n",
       "    <tr>\n",
       "      <th>7</th>\n",
       "      <td>@CheMed123_81.txt</td>\n",
       "      <td>39</td>\n",
       "      <td>0.518056</td>\n",
       "      <td>0.734259</td>\n",
       "      <td>0.219444</td>\n",
       "      <td>0.437037</td>\n",
       "      <td>0.483794</td>\n",
       "    </tr>\n",
       "    <tr>\n",
       "      <th>8</th>\n",
       "      <td>@CheMed123_81.txt</td>\n",
       "      <td>39</td>\n",
       "      <td>0.718518</td>\n",
       "      <td>0.758796</td>\n",
       "      <td>0.200000</td>\n",
       "      <td>0.397222</td>\n",
       "      <td>0.655023</td>\n",
       "    </tr>\n",
       "    <tr>\n",
       "      <th>9</th>\n",
       "      <td>@CheMed123_81.txt</td>\n",
       "      <td>39</td>\n",
       "      <td>0.316667</td>\n",
       "      <td>0.755093</td>\n",
       "      <td>0.198148</td>\n",
       "      <td>0.386111</td>\n",
       "      <td>0.732168</td>\n",
       "    </tr>\n",
       "  </tbody>\n",
       "</table>\n",
       "</div>"
      ],
      "text/plain": [
       "                          Image  Class  X_Center  Y_Center     Width  \\\n",
       "0  @lobelia4cosmetics_12471.txt      0  0.467553  0.517969  0.259578   \n",
       "1  @lobelia4cosmetics_12480.txt     73  0.506348  0.943359  0.516602   \n",
       "2             @CheMed123_71.txt      0  0.101562  0.403125  0.116319   \n",
       "3             @CheMed123_71.txt      0  0.496528  0.552344  0.416667   \n",
       "4  @lobelia4cosmetics_12479.txt     41  0.431525  0.798880  0.242894   \n",
       "5             @CheMed123_67.txt     11  0.145833  0.876852  0.152778   \n",
       "6  @lobelia4cosmetics_12470.txt     39  0.614453  0.573047  0.249219   \n",
       "7             @CheMed123_81.txt     39  0.518056  0.734259  0.219444   \n",
       "8             @CheMed123_81.txt     39  0.718518  0.758796  0.200000   \n",
       "9             @CheMed123_81.txt     39  0.316667  0.755093  0.198148   \n",
       "\n",
       "     Height  Confidence  \n",
       "0  0.376563    0.892511  \n",
       "1  0.105469    0.575717  \n",
       "2  0.112500    0.827497  \n",
       "3  0.565625    0.935870  \n",
       "4  0.250646    0.789149  \n",
       "5  0.209259    0.859066  \n",
       "6  0.727344    0.442317  \n",
       "7  0.437037    0.483794  \n",
       "8  0.397222    0.655023  \n",
       "9  0.386111    0.732168  "
      ]
     },
     "execution_count": 16,
     "metadata": {},
     "output_type": "execute_result"
    }
   ],
   "source": [
    "detectedImage.head(10)\n"
   ]
  }
 ],
 "metadata": {
  "kernelspec": {
   "display_name": ".venv",
   "language": "python",
   "name": "python3"
  },
  "language_info": {
   "codemirror_mode": {
    "name": "ipython",
    "version": 3
   },
   "file_extension": ".py",
   "mimetype": "text/x-python",
   "name": "python",
   "nbconvert_exporter": "python",
   "pygments_lexer": "ipython3",
   "version": "3.10.12"
  }
 },
 "nbformat": 4,
 "nbformat_minor": 2
}
